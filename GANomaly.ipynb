{
 "cells": [
  {
   "cell_type": "code",
   "execution_count": 1,
   "metadata": {},
   "outputs": [],
   "source": [
    "from keras import layers\n",
    "import keras\n",
    "import keras.backend as K\n",
    "from __future__ import absolute_import,print_function,division\n",
    "import tensorflow as tf \n",
    "import tensorflow.keras as keras\n",
    "import matplotlib.pyplot as plt \n",
    "import numpy as np \n",
    "import os\n",
    "import PIL\n",
    "import imageio\n",
    "import glob\n",
    "import time \n",
    "\n",
    "import pandas as pd\n",
    "from sklearn.model_selection import train_test_split\n",
    "from sklearn.preprocessing import LabelEncoder\n",
    "from keras.models import Sequential\n",
    "from keras.layers import Dense, Dropout, Activation, Flatten, LSTM, TimeDistributed, RepeatVector\n",
    "from keras.layers.normalization import BatchNormalization\n",
    "from keras.optimizers import Adam\n",
    "from keras.callbacks import EarlyStopping, ModelCheckpoint\n",
    "import matplotlib.pyplot as plt\n",
    "from keras.optimizers import RMSprop\n",
    "from keras.preprocessing.text import Tokenizer\n",
    "from keras.preprocessing import sequence\n",
    "from keras.utils import to_categorical\n",
    "%matplotlib inline\n",
    "from sklearn.utils import shuffle\n",
    "import random"
   ]
  },
  {
   "cell_type": "code",
   "execution_count": 2,
   "metadata": {},
   "outputs": [],
   "source": [
    "def readTrain():\n",
    "  train = pd.read_csv(\"Driving Data test _3.csv\")\n",
    "  return train\n",
    "def DriverA(data):\n",
    "  dataA = data.iloc[0:7240,:]\n",
    "  dataB = data.iloc[7241:20125,:]\n",
    "  dataC = data.iloc[20126:27625,:]\n",
    "  dataD = data.iloc[27626:40869,:]\n",
    "  dataE = data.iloc[40870:49305,:]\n",
    "  dataF = data.iloc[49306:60317,:]\n",
    "  dataG = data.iloc[60318:67809,:]\n",
    "  dataH = data.iloc[67810:77689,:]\n",
    "  dataI = data.iloc[77690:85497,:]\n",
    "  dataJ = data.iloc[85498:94401,:]\n",
    "  return dataA,dataB,dataC,dataD,dataE,dataF,dataG,dataH,dataI,dataJ\n",
    "def normalize(train):\n",
    "  train = train.drop([\"Class\"], axis=1)\n",
    "  train_norm = train.apply(lambda x: (x - np.mean(x)) / (np.max(x) - np.min(x)))\n",
    "  return train_norm\n",
    "def buildTrain(train, pastDay=60, futureDay=5):\n",
    "  X_train, Y_train = [], []\n",
    "  for i in range(train.shape[0]-16):\n",
    "    X_train.append(np.array(train.iloc[i:i+16,0:16]))\n",
    "    #Y_train.append(np.array(train.iloc[i:i+1][\"Fuel_consumption\"]))\n",
    "  return np.array(X_train)\n",
    "train = readTrain()\n",
    "train_norm = normalize(train)"
   ]
  },
  {
   "cell_type": "code",
   "execution_count": 3,
   "metadata": {},
   "outputs": [],
   "source": [
    "dataA,dataB,dataC,dataD,dataE,dataF,dataG,dataH,dataI,dataJ = DriverA(train_norm)"
   ]
  },
  {
   "cell_type": "code",
   "execution_count": 4,
   "metadata": {},
   "outputs": [],
   "source": [
    "dataAA,dataBB,dataCC,dataDD,dataEE,dataFF,dataGG,dataHH,dataII,dataJJ = DriverA(train)"
   ]
  },
  {
   "cell_type": "code",
   "execution_count": 5,
   "metadata": {},
   "outputs": [
    {
     "data": {
      "text/plain": [
       "(7224, 16, 16)"
      ]
     },
     "execution_count": 5,
     "metadata": {},
     "output_type": "execute_result"
    }
   ],
   "source": [
    "trainA = buildTrain(dataA)\n",
    "trainA.shape"
   ]
  },
  {
   "cell_type": "code",
   "execution_count": 6,
   "metadata": {},
   "outputs": [],
   "source": [
    "trainB = buildTrain(dataB)\n",
    "trainB = np.reshape(trainB,(12868,16,16,1))"
   ]
  },
  {
   "cell_type": "code",
   "execution_count": 7,
   "metadata": {},
   "outputs": [],
   "source": [
    "trainA = np.reshape(trainA,(7224,16,16,1))"
   ]
  },
  {
   "cell_type": "code",
   "execution_count": 8,
   "metadata": {},
   "outputs": [],
   "source": [
    "dataA_p = dataA.iloc[4000:5000,0:16]\n",
    "trainA_part = buildTrain(dataA_p)\n",
    "trainA_part = np.reshape(trainA_part,(984,16,16,1))"
   ]
  },
  {
   "cell_type": "code",
   "execution_count": 9,
   "metadata": {},
   "outputs": [],
   "source": [
    "dataB_p = dataB.iloc[4000:5000,0:16]\n",
    "trainB_part = buildTrain(dataB_p)\n",
    "trainB_part = np.reshape(trainB_part,(984,16,16,1))"
   ]
  },
  {
   "cell_type": "code",
   "execution_count": 10,
   "metadata": {},
   "outputs": [],
   "source": [
    "labelA = np.ones(984)\n",
    "labelB = np.zeros(984)\n",
    "labelAB = np.concatenate([labelA,labelB])"
   ]
  },
  {
   "cell_type": "code",
   "execution_count": 11,
   "metadata": {},
   "outputs": [
    {
     "data": {
      "text/plain": [
       "(1968,)"
      ]
     },
     "execution_count": 11,
     "metadata": {},
     "output_type": "execute_result"
    }
   ],
   "source": [
    "labelAB.shape"
   ]
  },
  {
   "cell_type": "code",
   "execution_count": 12,
   "metadata": {
    "scrolled": true
   },
   "outputs": [],
   "source": [
    "dataAB_p = np.vstack([trainA_part,trainB_part])"
   ]
  },
  {
   "cell_type": "code",
   "execution_count": 13,
   "metadata": {},
   "outputs": [],
   "source": [
    "dataAB_p = np.reshape(dataAB_p,(1968,256))"
   ]
  },
  {
   "cell_type": "code",
   "execution_count": 14,
   "metadata": {},
   "outputs": [],
   "source": [
    "index = [i for i in range(len(dataAB_p))]\n",
    "random.shuffle(index)\n",
    "dataAB_p = dataAB_p[index]\n",
    "labelAB = labelAB[index]"
   ]
  },
  {
   "cell_type": "code",
   "execution_count": 15,
   "metadata": {},
   "outputs": [],
   "source": [
    "dataAB_p_r = np.reshape(dataAB_p,(1968,16,16,1))"
   ]
  },
  {
   "cell_type": "code",
   "execution_count": 16,
   "metadata": {},
   "outputs": [],
   "source": [
    "width = 16\n",
    "height = 16\n",
    "channels = 1"
   ]
  },
  {
   "cell_type": "code",
   "execution_count": 17,
   "metadata": {},
   "outputs": [],
   "source": [
    "#load data\n",
    "from keras.datasets import mnist\n",
    "import cv2\n",
    "import numpy as np\n",
    "\n",
    "(x_train, y_train), (x_test, y_test) = mnist.load_data()\n",
    "#x_ok = x_train[y_train == 1] # 6742 筆\n",
    "x_test = x_test[(y_test == 7) | (y_test == 1)] # 1135 筆 \"1\", 1028 筆 \"7\"\n",
    "y_test = y_test[(y_test == 7) | (y_test == 1)]\n",
    "\n",
    "def reshape_x(x):\n",
    "    new_x = np.empty((len(x), width, height))\n",
    "    for i, e in enumerate(x):\n",
    "        new_x[i] = cv2.resize(e, (width, height))\n",
    "    return np.expand_dims(new_x, axis=-1) / 127 - 1\n",
    "  \n",
    "#x_ok = reshape_x(x_ok)\n",
    "x_test = reshape_x(x_test)"
   ]
  },
  {
   "cell_type": "code",
   "execution_count": 18,
   "metadata": {
    "scrolled": false
   },
   "outputs": [
    {
     "name": "stdout",
     "output_type": "stream",
     "text": [
      "Model: \"functional_1\"\n",
      "_________________________________________________________________\n",
      "Layer (type)                 Output Shape              Param #   \n",
      "=================================================================\n",
      "input (InputLayer)           [(None, 16, 16, 1)]       0         \n",
      "_________________________________________________________________\n",
      "conv_1 (Conv2D)              (None, 16, 16, 32)        832       \n",
      "_________________________________________________________________\n",
      "leaky_1 (LeakyReLU)          (None, 16, 16, 32)        0         \n",
      "_________________________________________________________________\n",
      "conv_2 (Conv2D)              (None, 8, 8, 64)          18496     \n",
      "_________________________________________________________________\n",
      "norm_1 (BatchNormalization)  (None, 8, 8, 64)          256       \n",
      "_________________________________________________________________\n",
      "leaky_2 (LeakyReLU)          (None, 8, 8, 64)          0         \n",
      "_________________________________________________________________\n",
      "conv_3 (Conv2D)              (None, 4, 4, 128)         73856     \n",
      "_________________________________________________________________\n",
      "norm_2 (BatchNormalization)  (None, 4, 4, 128)         512       \n",
      "_________________________________________________________________\n",
      "leaky_3 (LeakyReLU)          (None, 4, 4, 128)         0         \n",
      "_________________________________________________________________\n",
      "conv_4 (Conv2D)              (None, 2, 2, 128)         147584    \n",
      "_________________________________________________________________\n",
      "norm_3 (BatchNormalization)  (None, 2, 2, 128)         512       \n",
      "_________________________________________________________________\n",
      "leaky_4 (LeakyReLU)          (None, 2, 2, 128)         0         \n",
      "_________________________________________________________________\n",
      "g_encoder_output (GlobalAver (None, 128)               0         \n",
      "=================================================================\n",
      "Total params: 242,048\n",
      "Trainable params: 241,408\n",
      "Non-trainable params: 640\n",
      "_________________________________________________________________\n"
     ]
    }
   ],
   "source": [
    "#Generators Encoder\n",
    "input_layer = layers.Input(name='input', shape=(height, width, channels))\n",
    "\n",
    "# Encoder\n",
    "x = layers.Conv2D(32, (5,5), strides=(1,1), padding='same', name='conv_1', kernel_regularizer = 'l2')(input_layer)\n",
    "x = layers.LeakyReLU(name='leaky_1')(x)\n",
    "\n",
    "x = layers.Conv2D(64, (3,3), strides=(2,2), padding='same', name='conv_2', kernel_regularizer = 'l2')(x)\n",
    "x = layers.BatchNormalization(name='norm_1')(x)\n",
    "x = layers.LeakyReLU(name='leaky_2')(x)\n",
    "\n",
    "\n",
    "x = layers.Conv2D(128, (3,3), strides=(2,2), padding='same', name='conv_3', kernel_regularizer = 'l2')(x)\n",
    "x = layers.BatchNormalization(name='norm_2')(x)\n",
    "x = layers.LeakyReLU(name='leaky_3')(x)\n",
    "\n",
    "\n",
    "x = layers.Conv2D(128, (3,3), strides=(2,2), padding='same', name='conv_4', kernel_regularizer = 'l2')(x)\n",
    "x = layers.BatchNormalization(name='norm_3')(x)\n",
    "x = layers.LeakyReLU(name='leaky_4')(x)\n",
    "\n",
    "x = layers.GlobalAveragePooling2D(name='g_encoder_output')(x)\n",
    "\n",
    "g_e = keras.models.Model(inputs=input_layer, outputs=x)\n",
    "\n",
    "g_e.summary()"
   ]
  },
  {
   "cell_type": "code",
   "execution_count": 19,
   "metadata": {},
   "outputs": [
    {
     "name": "stdout",
     "output_type": "stream",
     "text": [
      "Model: \"functional_3\"\n",
      "_________________________________________________________________\n",
      "Layer (type)                 Output Shape              Param #   \n",
      "=================================================================\n",
      "input (InputLayer)           [(None, 16, 16, 1)]       0         \n",
      "_________________________________________________________________\n",
      "functional_1 (Functional)    (None, 128)               242048    \n",
      "_________________________________________________________________\n",
      "dense (Dense)                (None, 512)               66048     \n",
      "_________________________________________________________________\n",
      "de_reshape (Reshape)         (None, 2, 2, 128)         0         \n",
      "_________________________________________________________________\n",
      "deconv_1 (Conv2DTranspose)   (None, 4, 4, 128)         147584    \n",
      "_________________________________________________________________\n",
      "de_leaky_1 (LeakyReLU)       (None, 4, 4, 128)         0         \n",
      "_________________________________________________________________\n",
      "deconv_2 (Conv2DTranspose)   (None, 8, 8, 64)          73792     \n",
      "_________________________________________________________________\n",
      "de_leaky_2 (LeakyReLU)       (None, 8, 8, 64)          0         \n",
      "_________________________________________________________________\n",
      "deconv_3 (Conv2DTranspose)   (None, 16, 16, 32)        18464     \n",
      "_________________________________________________________________\n",
      "de_leaky_3 (LeakyReLU)       (None, 16, 16, 32)        0         \n",
      "_________________________________________________________________\n",
      "decoder_deconv_output (Conv2 (None, 16, 16, 1)         33        \n",
      "=================================================================\n",
      "Total params: 547,969\n",
      "Trainable params: 547,329\n",
      "Non-trainable params: 640\n",
      "_________________________________________________________________\n"
     ]
    }
   ],
   "source": [
    "#Generator\n",
    "input_layer = layers.Input(name='input', shape=(height, width, channels))\n",
    "\n",
    "x = g_e(input_layer)\n",
    "\n",
    "y = layers.Dense(width * width * 2, name='dense')(x) # 2 = 128 / 8 / 8\n",
    "y = layers.Reshape((width//8, width//8, 128), name='de_reshape')(y)\n",
    "\n",
    "y = layers.Conv2DTranspose(128, (3,3), strides=(2,2), padding='same', name='deconv_1', kernel_regularizer = 'l2')(y)\n",
    "y = layers.LeakyReLU(name='de_leaky_1')(y)\n",
    "\n",
    "y = layers.Conv2DTranspose(64, (3,3), strides=(2,2), padding='same', name='deconv_2', kernel_regularizer = 'l2')(y)\n",
    "y = layers.LeakyReLU(name='de_leaky_2')(y)\n",
    "\n",
    "y = layers.Conv2DTranspose(32, (3,3), strides=(2,2), padding='same', name='deconv_3', kernel_regularizer = 'l2')(y)\n",
    "y = layers.LeakyReLU(name='de_leaky_3')(y)\n",
    "\n",
    "y = layers.Conv2DTranspose(channels, (1, 1), strides=(1,1), padding='same', name='decoder_deconv_output', kernel_regularizer = 'l2', activation='tanh')(y)\n",
    "\n",
    "g = keras.models.Model(inputs=input_layer, outputs=y)\n",
    "\n",
    "g.summary()"
   ]
  },
  {
   "cell_type": "code",
   "execution_count": 20,
   "metadata": {},
   "outputs": [
    {
     "name": "stdout",
     "output_type": "stream",
     "text": [
      "Model: \"functional_5\"\n",
      "_________________________________________________________________\n",
      "Layer (type)                 Output Shape              Param #   \n",
      "=================================================================\n",
      "input (InputLayer)           [(None, 16, 16, 1)]       0         \n",
      "_________________________________________________________________\n",
      "encoder_conv_1 (Conv2D)      (None, 16, 16, 32)        832       \n",
      "_________________________________________________________________\n",
      "leaky_re_lu (LeakyReLU)      (None, 16, 16, 32)        0         \n",
      "_________________________________________________________________\n",
      "encoder_conv_2 (Conv2D)      (None, 8, 8, 64)          18496     \n",
      "_________________________________________________________________\n",
      "encoder_norm_1 (BatchNormali (None, 8, 8, 64)          256       \n",
      "_________________________________________________________________\n",
      "leaky_re_lu_1 (LeakyReLU)    (None, 8, 8, 64)          0         \n",
      "_________________________________________________________________\n",
      "encoder_conv_3 (Conv2D)      (None, 4, 4, 128)         73856     \n",
      "_________________________________________________________________\n",
      "encoder_norm_2 (BatchNormali (None, 4, 4, 128)         512       \n",
      "_________________________________________________________________\n",
      "leaky_re_lu_2 (LeakyReLU)    (None, 4, 4, 128)         0         \n",
      "_________________________________________________________________\n",
      "conv_41 (Conv2D)             (None, 2, 2, 128)         147584    \n",
      "_________________________________________________________________\n",
      "encoder_norm_3 (BatchNormali (None, 2, 2, 128)         512       \n",
      "_________________________________________________________________\n",
      "leaky_re_lu_3 (LeakyReLU)    (None, 2, 2, 128)         0         \n",
      "_________________________________________________________________\n",
      "encoder_output (GlobalAverag (None, 128)               0         \n",
      "=================================================================\n",
      "Total params: 242,048\n",
      "Trainable params: 241,408\n",
      "Non-trainable params: 640\n",
      "_________________________________________________________________\n"
     ]
    }
   ],
   "source": [
    "#Encoder\n",
    "input_layer = layers.Input(name='input', shape=(height, width, channels))\n",
    "\n",
    "z = layers.Conv2D(32, (5,5), strides=(1,1), padding='same', name='encoder_conv_1', kernel_regularizer = 'l2')(input_layer)\n",
    "z = layers.LeakyReLU()(z)\n",
    "\n",
    "z = layers.Conv2D(64, (3,3), strides=(2,2), padding='same', name='encoder_conv_2', kernel_regularizer = 'l2')(z)\n",
    "z = layers.BatchNormalization(name='encoder_norm_1')(z)\n",
    "z = layers.LeakyReLU()(z)\n",
    "\n",
    "\n",
    "z = layers.Conv2D(128, (3,3), strides=(2,2), padding='same', name='encoder_conv_3', kernel_regularizer = 'l2')(z)\n",
    "z = layers.BatchNormalization(name='encoder_norm_2')(z)\n",
    "z = layers.LeakyReLU()(z)\n",
    "\n",
    "z = layers.Conv2D(128, (3,3), strides=(2,2), padding='same', name='conv_41', kernel_regularizer = 'l2')(z)\n",
    "z = layers.BatchNormalization(name='encoder_norm_3')(z)\n",
    "z = layers.LeakyReLU()(z)\n",
    "\n",
    "z = layers.GlobalAveragePooling2D(name='encoder_output')(z)\n",
    "\n",
    "encoder = keras.models.Model(input_layer, z)\n",
    "encoder.summary()"
   ]
  },
  {
   "cell_type": "code",
   "execution_count": 21,
   "metadata": {},
   "outputs": [
    {
     "name": "stdout",
     "output_type": "stream",
     "text": [
      "Model: \"functional_7\"\n",
      "_________________________________________________________________\n",
      "Layer (type)                 Output Shape              Param #   \n",
      "=================================================================\n",
      "input (InputLayer)           [(None, 16, 16, 1)]       0         \n",
      "_________________________________________________________________\n",
      "f_conv_1 (Conv2D)            (None, 16, 16, 32)        832       \n",
      "_________________________________________________________________\n",
      "f_leaky_1 (LeakyReLU)        (None, 16, 16, 32)        0         \n",
      "_________________________________________________________________\n",
      "f_conv_2 (Conv2D)            (None, 8, 8, 64)          18496     \n",
      "_________________________________________________________________\n",
      "f_norm_1 (BatchNormalization (None, 8, 8, 64)          256       \n",
      "_________________________________________________________________\n",
      "f_leaky_2 (LeakyReLU)        (None, 8, 8, 64)          0         \n",
      "_________________________________________________________________\n",
      "f_conv_3 (Conv2D)            (None, 4, 4, 128)         73856     \n",
      "_________________________________________________________________\n",
      "f_norm_2 (BatchNormalization (None, 4, 4, 128)         512       \n",
      "_________________________________________________________________\n",
      "f_leaky_3 (LeakyReLU)        (None, 4, 4, 128)         0         \n",
      "_________________________________________________________________\n",
      "f_conv_4 (Conv2D)            (None, 2, 2, 128)         147584    \n",
      "_________________________________________________________________\n",
      "f_norm_3 (BatchNormalization (None, 2, 2, 128)         512       \n",
      "_________________________________________________________________\n",
      "feature_output (LeakyReLU)   (None, 2, 2, 128)         0         \n",
      "=================================================================\n",
      "Total params: 242,048\n",
      "Trainable params: 241,408\n",
      "Non-trainable params: 640\n",
      "_________________________________________________________________\n"
     ]
    }
   ],
   "source": [
    "#feature extractor\n",
    "input_layer = layers.Input(name='input', shape=(height, width, channels))\n",
    "\n",
    "f = layers.Conv2D(32, (5,5), strides=(1,1), padding='same', name='f_conv_1', kernel_regularizer = 'l2')(input_layer)\n",
    "f = layers.LeakyReLU(name='f_leaky_1')(f)\n",
    "\n",
    "f = layers.Conv2D(64, (3,3), strides=(2,2), padding='same', name='f_conv_2', kernel_regularizer = 'l2')(f)\n",
    "f = layers.BatchNormalization(name='f_norm_1')(f)\n",
    "f = layers.LeakyReLU(name='f_leaky_2')(f)\n",
    "\n",
    "\n",
    "f = layers.Conv2D(128, (3,3), strides=(2,2), padding='same', name='f_conv_3', kernel_regularizer = 'l2')(f)\n",
    "f = layers.BatchNormalization(name='f_norm_2')(f)\n",
    "f = layers.LeakyReLU(name='f_leaky_3')(f)\n",
    "\n",
    "\n",
    "f = layers.Conv2D(128, (3,3), strides=(2,2), padding='same', name='f_conv_4', kernel_regularizer = 'l2')(f)\n",
    "f = layers.BatchNormalization(name='f_norm_3')(f)\n",
    "f = layers.LeakyReLU(name='feature_output')(f)\n",
    "\n",
    "feature_extractor = keras.models.Model(input_layer, f)\n",
    "\n",
    "feature_extractor.summary()"
   ]
  },
  {
   "cell_type": "code",
   "execution_count": 22,
   "metadata": {},
   "outputs": [],
   "source": [
    "#gan trainer\n",
    "class AdvLoss(keras.layers.Layer):\n",
    "    def __init__(self, **kwargs):\n",
    "        super(AdvLoss, self).__init__(**kwargs)\n",
    "\n",
    "    def call(self, x, mask=None):\n",
    "        ori_feature = feature_extractor(x[0])\n",
    "        gan_feature = feature_extractor(x[1])\n",
    "        return K.mean(K.square(ori_feature - K.mean(gan_feature, axis=0)))\n",
    "\n",
    "    def get_output_shape_for(self, input_shape):\n",
    "        return (input_shape[0][0], 1)\n",
    "    \n",
    "class CntLoss(keras.layers.Layer):\n",
    "    def __init__(self, **kwargs):\n",
    "        super(CntLoss, self).__init__(**kwargs)\n",
    "\n",
    "    def call(self, x, mask=None):\n",
    "        ori = x[0]\n",
    "        gan = x[1]\n",
    "        return K.mean(K.abs(ori - gan))\n",
    "\n",
    "    def get_output_shape_for(self, input_shape):\n",
    "        return (input_shape[0][0], 1)\n",
    "    \n",
    "class EncLoss(keras.layers.Layer):\n",
    "    def __init__(self, **kwargs):\n",
    "        super(EncLoss, self).__init__(**kwargs)\n",
    "\n",
    "    def call(self, x, mask=None):\n",
    "        ori = x[0]\n",
    "        gan = x[1]\n",
    "        return K.mean(K.square(g_e(ori) - encoder(gan)))\n",
    "\n",
    "    def get_output_shape_for(self, input_shape):\n",
    "        return (input_shape[0][0], 1)\n",
    "    \n",
    "# model for training\n",
    "input_layer = layers.Input(name='input', shape=(height, width, channels))\n",
    "gan = g(input_layer) # g(x)\n",
    "\n",
    "adv_loss = AdvLoss(name='adv_loss')([input_layer, gan])\n",
    "cnt_loss = CntLoss(name='cnt_loss')([input_layer, gan])\n",
    "enc_loss = EncLoss(name='enc_loss')([input_layer, gan])\n",
    "\n",
    "gan_trainer = keras.models.Model(input_layer, [adv_loss, cnt_loss, enc_loss])\n",
    "\n",
    "# loss function\n",
    "def loss(yt, yp):\n",
    "    return yp\n",
    "\n",
    "losses = {\n",
    "    'adv_loss': loss,\n",
    "    'cnt_loss': loss,\n",
    "    'enc_loss': loss,\n",
    "}\n",
    "\n",
    "lossWeights = {'cnt_loss': 20.0, 'adv_loss': 1.0, 'enc_loss': 1.0}\n",
    "\n",
    "# compile\n",
    "gan_trainer.compile(optimizer = 'adam', loss=losses, loss_weights=lossWeights)"
   ]
  },
  {
   "cell_type": "code",
   "execution_count": 23,
   "metadata": {},
   "outputs": [
    {
     "name": "stdout",
     "output_type": "stream",
     "text": [
      "Model: \"functional_9\"\n",
      "__________________________________________________________________________________________________\n",
      "Layer (type)                    Output Shape         Param #     Connected to                     \n",
      "==================================================================================================\n",
      "input (InputLayer)              [(None, 16, 16, 1)]  0                                            \n",
      "__________________________________________________________________________________________________\n",
      "functional_3 (Functional)       (None, 16, 16, 1)    547969      input[0][0]                      \n",
      "__________________________________________________________________________________________________\n",
      "adv_loss (AdvLoss)              ()                   0           input[0][0]                      \n",
      "                                                                 functional_3[0][0]               \n",
      "__________________________________________________________________________________________________\n",
      "cnt_loss (CntLoss)              ()                   0           input[0][0]                      \n",
      "                                                                 functional_3[0][0]               \n",
      "__________________________________________________________________________________________________\n",
      "enc_loss (EncLoss)              ()                   0           input[0][0]                      \n",
      "                                                                 functional_3[0][0]               \n",
      "==================================================================================================\n",
      "Total params: 547,969\n",
      "Trainable params: 547,329\n",
      "Non-trainable params: 640\n",
      "__________________________________________________________________________________________________\n"
     ]
    }
   ],
   "source": [
    "gan_trainer.summary()"
   ]
  },
  {
   "cell_type": "code",
   "execution_count": 24,
   "metadata": {},
   "outputs": [
    {
     "name": "stdout",
     "output_type": "stream",
     "text": [
      "Model: \"functional_11\"\n",
      "_________________________________________________________________\n",
      "Layer (type)                 Output Shape              Param #   \n",
      "=================================================================\n",
      "input (InputLayer)           [(None, 16, 16, 1)]       0         \n",
      "_________________________________________________________________\n",
      "functional_7 (Functional)    (None, 2, 2, 128)         242048    \n",
      "_________________________________________________________________\n",
      "glb_avg (GlobalAveragePoolin (None, 128)               0         \n",
      "_________________________________________________________________\n",
      "d_out (Dense)                (None, 1)                 129       \n",
      "=================================================================\n",
      "Total params: 242,177\n",
      "Trainable params: 241,537\n",
      "Non-trainable params: 640\n",
      "_________________________________________________________________\n"
     ]
    }
   ],
   "source": [
    "#discriminator\n",
    "\n",
    "input_layer = layers.Input(name='input', shape=(height, width, channels))\n",
    "\n",
    "f = feature_extractor(input_layer)\n",
    "\n",
    "d = layers.GlobalAveragePooling2D(name='glb_avg')(f)\n",
    "d = layers.Dense(1, activation='sigmoid', name='d_out')(d)\n",
    "    \n",
    "d = keras.models.Model(input_layer, d)\n",
    "d.summary()"
   ]
  },
  {
   "cell_type": "code",
   "execution_count": 25,
   "metadata": {},
   "outputs": [],
   "source": [
    "d.compile(optimizer='adam', loss='binary_crossentropy')"
   ]
  },
  {
   "cell_type": "code",
   "execution_count": 26,
   "metadata": {},
   "outputs": [
    {
     "data": {
      "text/plain": [
       "0.9625216261719473"
      ]
     },
     "execution_count": 26,
     "metadata": {},
     "output_type": "execute_result"
    }
   ],
   "source": [
    "trainA.max()"
   ]
  },
  {
   "cell_type": "code",
   "execution_count": 27,
   "metadata": {},
   "outputs": [],
   "source": [
    "#Training\n",
    "\n",
    "niter = 20000\n",
    "bz = 32\n",
    "def get_data_generator(data, batch_size=32):\n",
    "    datalen = len(data)\n",
    "    cnt = 0\n",
    "    while True:\n",
    "        idxes = np.arange(datalen)\n",
    "        np.random.shuffle(idxes)\n",
    "        cnt += 1\n",
    "        for i in range(int(np.ceil(datalen/batch_size))):\n",
    "            train_x = np.take(data, idxes[i*batch_size: (i+1) * batch_size], axis=0)\n",
    "            y = np.ones(len(train_x))\n",
    "            yield train_x, [y, y, y]        "
   ]
  },
  {
   "cell_type": "code",
   "execution_count": 28,
   "metadata": {
    "scrolled": true
   },
   "outputs": [],
   "source": [
    "train_data_generator = get_data_generator(trainB, bz)"
   ]
  },
  {
   "cell_type": "code",
   "execution_count": 29,
   "metadata": {},
   "outputs": [
    {
     "name": "stdout",
     "output_type": "stream",
     "text": [
      "niter: 1, g_loss: [7.263525009155273, 3.271841706009582e-05, 0.09368482232093811, 0.22752688825130463], d_loss: 3.569434404373169\n",
      "niter: 51, g_loss: [2.42020583152771, 1.3726573342864867e-05, 0.05542334169149399, 0.06754104048013687], d_loss: 0.9823530912399292\n",
      "niter: 101, g_loss: [1.667868733406067, 1.2915104434796376e-06, 0.055071886628866196, 0.05427363142371178], d_loss: 0.3439534604549408\n",
      "niter: 151, g_loss: [1.1970089673995972, 5.83242581342347e-06, 0.04141516983509064, 0.05043419450521469], d_loss: 0.13958203792572021\n",
      "niter: 201, g_loss: [1.0485503673553467, 1.055750090017682e-06, 0.03751801326870918, 0.0483824647963047], d_loss: 0.06215715408325195\n",
      "niter: 251, g_loss: [1.0232901573181152, 2.444993697281461e-06, 0.03775935620069504, 0.04672299325466156], d_loss: 0.029868293553590775\n",
      "niter: 301, g_loss: [1.1694620847702026, 0.020263832062482834, 0.04455997049808502, 0.053028322756290436], d_loss: 0.14839614927768707\n",
      "niter: 351, g_loss: [1.0244706869125366, 0.0298799816519022, 0.037786271423101425, 0.043277427554130554], d_loss: 0.16542264819145203\n",
      "niter: 401, g_loss: [0.9470759630203247, 0.0361173152923584, 0.034293584525585175, 0.040938735008239746], d_loss: 0.3413558900356293\n",
      "niter: 451, g_loss: [0.988806426525116, 0.012639668770134449, 0.03793242946267128, 0.04053289815783501], d_loss: 0.14925789833068848\n",
      "niter: 501, g_loss: [0.9798868894577026, 0.01880483515560627, 0.03737188130617142, 0.042285382747650146], d_loss: 0.2811683118343353\n",
      "niter: 551, g_loss: [0.9653909802436829, 0.06065665930509567, 0.034759633243083954, 0.04214341565966606], d_loss: 0.49266472458839417\n",
      "niter: 601, g_loss: [5.564603328704834, 3.844348907470703, 0.06426210701465607, 0.09482695162296295], d_loss: 1.052331805229187\n",
      "niter: 651, g_loss: [1.2638310194015503, 0.0810161679983139, 0.04146795719861984, 0.04221844673156738], d_loss: 0.6183426380157471\n",
      "niter: 701, g_loss: [1.1546472311019897, 0.028718914836645126, 0.04339068382978439, 0.044610507786273956], d_loss: 0.22982296347618103\n",
      "niter: 751, g_loss: [0.921977162361145, 0.014663007110357285, 0.03439529240131378, 0.03839269280433655], d_loss: 0.1531425416469574\n",
      "niter: 801, g_loss: [1.0666961669921875, 0.03564728796482086, 0.04140078276395798, 0.0374671146273613], d_loss: 0.1306181252002716\n",
      "niter: 851, g_loss: [0.8362072110176086, 0.023053981363773346, 0.03069309890270233, 0.039898812770843506], d_loss: 0.25599825382232666\n",
      "niter: 901, g_loss: [1.107936143875122, 0.19261568784713745, 0.03599266707897186, 0.037910886108875275], d_loss: 0.17142298817634583\n",
      "niter: 951, g_loss: [1.2036422491073608, 0.23723888397216797, 0.0378822460770607, 0.043224114924669266], d_loss: 0.4708232283592224\n",
      "niter: 1001, g_loss: [4.895236015319824, 3.34564208984375, 0.06461170315742493, 0.063813216984272], d_loss: 1.7110470533370972\n",
      "niter: 1051, g_loss: [2.55070161819458, 0.5031933784484863, 0.05618147552013397, 0.09190455079078674], d_loss: 0.49734675884246826\n",
      "niter: 1101, g_loss: [1.3809610605239868, 0.014491629786789417, 0.04145555570721626, 0.05172788351774216], d_loss: 0.3601793646812439\n",
      "niter: 1151, g_loss: [1.3224658966064453, 0.009452031925320625, 0.047669652849435806, 0.04522804170846939], d_loss: 0.1348314732313156\n",
      "niter: 1201, g_loss: [1.1153641939163208, 0.003988565877079964, 0.041679345071315765, 0.04068204388022423], d_loss: 0.08217353373765945\n",
      "niter: 1251, g_loss: [0.888976514339447, 0.0024669438134878874, 0.03241331875324249, 0.0385325625538826], d_loss: 0.07229486107826233\n",
      "niter: 1301, g_loss: [0.9096786975860596, 0.0014459930825978518, 0.03446231782436371, 0.038158535957336426], d_loss: 0.04724499583244324\n",
      "niter: 1351, g_loss: [1.0626165866851807, 0.01786169782280922, 0.04177753999829292, 0.03941100463271141], d_loss: 0.4338536560535431\n",
      "niter: 1401, g_loss: [1.140071988105774, 0.1378893256187439, 0.0397525317966938, 0.04032353311777115], d_loss: 0.19506341218948364\n",
      "niter: 1451, g_loss: [1.07973051071167, 0.12144102156162262, 0.03722014278173447, 0.042887941002845764], d_loss: 0.12124071270227432\n",
      "niter: 1501, g_loss: [1.3232678174972534, 0.27282172441482544, 0.0417693629860878, 0.048400212079286575], d_loss: 0.13932445645332336\n",
      "niter: 1551, g_loss: [23.522436141967773, 21.67998504638672, 0.06769794970750809, 0.1081952229142189], d_loss: 0.9197200536727905\n",
      "niter: 1601, g_loss: [1.3974695205688477, 0.05332831293344498, 0.04254008084535599, 0.05157322436571121], d_loss: 0.6940141916275024\n",
      "niter: 1651, g_loss: [1.2575315237045288, 0.043148770928382874, 0.043562568724155426, 0.043740514665842056], d_loss: 0.30030420422554016\n",
      "niter: 1701, g_loss: [0.8575486540794373, 0.008918650448322296, 0.028999634087085724, 0.03699082136154175], d_loss: 0.12033293396234512\n",
      "niter: 1751, g_loss: [1.0937488079071045, 0.04108472540974617, 0.04039226099848747, 0.045727118849754333], d_loss: 0.11227333545684814\n",
      "niter: 1801, g_loss: [0.9218772649765015, 0.021721791476011276, 0.034304916858673096, 0.035453177988529205], d_loss: 0.17256657779216766\n",
      "niter: 1851, g_loss: [0.9023515582084656, 0.05526462569832802, 0.03174241632223129, 0.04224023222923279], d_loss: 0.1430271863937378\n",
      "niter: 1901, g_loss: [0.8487075567245483, 0.04397227615118027, 0.029983092099428177, 0.03827318921685219], d_loss: 0.18495216965675354\n",
      "niter: 1951, g_loss: [1.5145636796951294, 0.43218085169792175, 0.04347027838230133, 0.0439266599714756], d_loss: 0.42919450998306274\n",
      "niter: 2001, g_loss: [6.053365230560303, 4.271518707275391, 0.05897083878517151, 0.07622481137514114], d_loss: 0.5158987045288086\n",
      "niter: 2051, g_loss: [1.592284917831421, 0.2835065424442291, 0.04535888880491257, 0.04800024256110191], d_loss: 0.6154805421829224\n",
      "niter: 2101, g_loss: [2.1496613025665283, 0.8486683368682861, 0.04983143135905266, 0.04802735522389412], d_loss: 0.4299750030040741\n",
      "niter: 2151, g_loss: [3.071941375732422, 1.9370014667510986, 0.0430736318230629, 0.04473668336868286], d_loss: 0.6093697547912598\n",
      "niter: 2201, g_loss: [2.9221792221069336, 1.7670202255249023, 0.04337776452302933, 0.046929046511650085], d_loss: 0.9371708631515503\n",
      "niter: 2251, g_loss: [1.6032772064208984, 0.5344560146331787, 0.03872457891702652, 0.05120052397251129], d_loss: 0.7408698797225952\n",
      "niter: 2301, g_loss: [0.8618886470794678, 0.03556869551539421, 0.029017973691225052, 0.040387656539678574], d_loss: 0.5380288362503052\n",
      "niter: 2351, g_loss: [1.0760588645935059, 0.054216161370277405, 0.03990516811609268, 0.04413123428821564], d_loss: 0.3567299544811249\n",
      "niter: 2401, g_loss: [0.9524508118629456, 0.04053184390068054, 0.035231996327638626, 0.0379968099296093], d_loss: 0.24331490695476532\n",
      "niter: 2451, g_loss: [0.9707035422325134, 0.08438968658447266, 0.03392697125673294, 0.04187318682670593], d_loss: 0.20801176130771637\n",
      "niter: 2501, g_loss: [0.9962157607078552, 0.10586996376514435, 0.034492865204811096, 0.039679497480392456], d_loss: 0.28612157702445984\n",
      "niter: 2551, g_loss: [1.099906086921692, 0.2157536894083023, 0.03427048772573471, 0.038741663098335266], d_loss: 0.3105047643184662\n",
      "niter: 2601, g_loss: [9.917561531066895, 8.540594100952148, 0.05403812229633331, 0.06381739675998688], d_loss: 1.207876205444336\n",
      "niter: 2651, g_loss: [1.3701626062393188, 0.32737475633621216, 0.03700278699398041, 0.04046417772769928], d_loss: 0.4619506001472473\n",
      "niter: 2701, g_loss: [1.3405057191848755, 0.34718257188796997, 0.03722197562456131, 0.041588958352804184], d_loss: 0.5346409678459167\n",
      "niter: 2751, g_loss: [4.808599948883057, 3.5795931816101074, 0.04606122523546219, 0.061547569930553436], d_loss: 0.9850715398788452\n",
      "niter: 2801, g_loss: [1.2288248538970947, 0.28582826256752014, 0.033737875521183014, 0.04394617676734924], d_loss: 0.6227348446846008\n",
      "niter: 2851, g_loss: [2.0895473957061768, 1.1352293491363525, 0.03529639169573784, 0.044682130217552185], d_loss: 0.7315106987953186\n",
      "niter: 2901, g_loss: [0.9181653261184692, 0.09414441883563995, 0.03028828278183937, 0.037346839904785156], d_loss: 0.5060314536094666\n",
      "niter: 2951, g_loss: [1.1815470457077026, 0.21676336228847504, 0.03764594346284866, 0.04068087041378021], d_loss: 0.2878226041793823\n",
      "niter: 3001, g_loss: [1.32236909866333, 0.3088947534561157, 0.04007793962955475, 0.04315759986639023], d_loss: 0.44115468859672546\n",
      "niter: 3051, g_loss: [5.392243385314941, 4.271206378936768, 0.04229654371738434, 0.05969897657632828], d_loss: 1.227965235710144\n"
     ]
    },
    {
     "name": "stdout",
     "output_type": "stream",
     "text": [
      "niter: 3101, g_loss: [2.0197269916534424, 0.8767387866973877, 0.04041166976094246, 0.04546591266989708], d_loss: 0.9516233801841736\n",
      "niter: 3151, g_loss: [1.1712015867233276, 0.1632387787103653, 0.03788527101278305, 0.04243537783622742], d_loss: 0.5675590634346008\n",
      "niter: 3201, g_loss: [0.8777341842651367, 0.05298347771167755, 0.03044833056628704, 0.037827204912900925], d_loss: 0.4060528576374054\n",
      "niter: 3251, g_loss: [0.9952885508537292, 0.0686962753534317, 0.036063820123672485, 0.03778841719031334], d_loss: 0.24403412640094757\n",
      "niter: 3301, g_loss: [0.8797949552536011, 0.04691483825445175, 0.03165644407272339, 0.04113326966762543], d_loss: 0.17805853486061096\n",
      "niter: 3351, g_loss: [0.8537880182266235, 0.04219170659780502, 0.03110525757074356, 0.035320162773132324], d_loss: 0.1536817103624344\n",
      "niter: 3401, g_loss: [1.1427067518234253, 0.05993733927607536, 0.044698573648929596, 0.04075957462191582], d_loss: 0.12980331480503082\n",
      "niter: 3451, g_loss: [1.3982348442077637, 0.5204373598098755, 0.033884964883327484, 0.04247985780239105], d_loss: 0.44737955927848816\n",
      "niter: 3501, g_loss: [3.2101476192474365, 0.10637122392654419, 0.07634055614471436, 0.09427502751350403], d_loss: 0.5797523856163025\n",
      "niter: 3551, g_loss: [2.1010000705718994, 0.012962664477527142, 0.05678641051054001, 0.06493078172206879], d_loss: 0.391256183385849\n",
      "niter: 3601, g_loss: [1.9756871461868286, 0.012227809056639671, 0.06430701166391373, 0.06462020426988602], d_loss: 0.19800445437431335\n",
      "niter: 3651, g_loss: [1.5448846817016602, 0.0051246266812086105, 0.051282308995723724, 0.05506293848156929], d_loss: 0.12616805732250214\n",
      "niter: 3701, g_loss: [1.3214417695999146, 0.012100355699658394, 0.044511064887046814, 0.04789723828434944], d_loss: 0.09451072663068771\n",
      "niter: 3751, g_loss: [1.0780878067016602, 0.0032235286198556423, 0.036000147461891174, 0.041451629251241684], d_loss: 0.07302882522344589\n",
      "niter: 3801, g_loss: [0.9844982028007507, 0.0030948247294873, 0.033080294728279114, 0.04599504545331001], d_loss: 0.057495877146720886\n",
      "niter: 3851, g_loss: [0.9019313454627991, 0.0039585349150002, 0.030591249465942383, 0.03722956031560898], d_loss: 0.048964086920022964\n",
      "niter: 3901, g_loss: [1.1505744457244873, 0.16182413697242737, 0.03548773378133774, 0.04703141748905182], d_loss: 0.13748814165592194\n",
      "niter: 3951, g_loss: [5.148105144500732, 3.158674955368042, 0.0711163729429245, 0.09428361803293228], d_loss: 0.7812542915344238\n",
      "niter: 4001, g_loss: [1.9504368305206299, 0.4246039390563965, 0.04749374836683273, 0.06150016933679581], d_loss: 0.7439475059509277\n",
      "niter: 4051, g_loss: [1.82583749294281, 0.31313127279281616, 0.05382433161139488, 0.06324965506792068], d_loss: 0.5132344365119934\n",
      "niter: 4101, g_loss: [1.0306220054626465, 0.05243610590696335, 0.03223780170083046, 0.041148290038108826], d_loss: 0.23640717566013336\n",
      "niter: 4151, g_loss: [1.0839343070983887, 0.05982304736971855, 0.03636728972196579, 0.04695258289575577], d_loss: 0.17467482388019562\n",
      "niter: 4201, g_loss: [0.9879806041717529, 0.023525092750787735, 0.03522847965359688, 0.039868615567684174], d_loss: 0.0938047245144844\n",
      "niter: 4251, g_loss: [1.103179693222046, 0.08742216229438782, 0.03845652937889099, 0.04366724565625191], d_loss: 0.10519896447658539\n",
      "niter: 4301, g_loss: [1.0635839700698853, 0.06736376881599426, 0.038122281432151794, 0.04352983832359314], d_loss: 0.12863464653491974\n",
      "niter: 4351, g_loss: [1.1008636951446533, 0.17374549806118011, 0.034995872527360916, 0.045190028846263885], d_loss: 0.17396220564842224\n",
      "niter: 4401, g_loss: [1.100772738456726, 0.1733398139476776, 0.03556320071220398, 0.039890438318252563], d_loss: 0.17697958648204803\n",
      "niter: 4451, g_loss: [13.090028762817383, 10.460355758666992, 0.1053188368678093, 0.1665041446685791], d_loss: 0.6200007200241089\n",
      "niter: 4501, g_loss: [2.0544328689575195, 0.15447109937667847, 0.05683134123682976, 0.07445837557315826], d_loss: 0.7006014585494995\n",
      "niter: 4551, g_loss: [1.5172666311264038, 0.026972979307174683, 0.04834166541695595, 0.05536450445652008], d_loss: 0.35874077677726746\n",
      "niter: 4601, g_loss: [1.1510637998580933, 0.0038395426236093044, 0.0371805801987648, 0.04562859982252121], d_loss: 0.1856309175491333\n",
      "niter: 4651, g_loss: [1.0725319385528564, 0.0036649410612881184, 0.036843493580818176, 0.04124482348561287], d_loss: 0.12120239436626434\n",
      "niter: 4701, g_loss: [1.0122493505477905, 0.004540075082331896, 0.03591109439730644, 0.04174401983618736], d_loss: 0.08939534425735474\n",
      "niter: 4751, g_loss: [0.9856616854667664, 0.004437830299139023, 0.03588995337486267, 0.04105676710605621], d_loss: 0.07338745892047882\n",
      "niter: 4801, g_loss: [0.9748368859291077, 0.04212508350610733, 0.034185782074928284, 0.040742650628089905], d_loss: 0.09893715381622314\n",
      "niter: 4851, g_loss: [1.1559864282608032, 0.08141025900840759, 0.04126532003283501, 0.04453413560986519], d_loss: 0.36876535415649414\n",
      "niter: 4901, g_loss: [1.1690469980239868, 0.18304845690727234, 0.037300363183021545, 0.04445049166679382], d_loss: 0.17214329540729523\n",
      "niter: 4951, g_loss: [2.093599557876587, 0.7896788120269775, 0.052094731479883194, 0.054833486676216125], d_loss: 0.3328976333141327\n",
      "niter: 5001, g_loss: [2.4098029136657715, 0.321208119392395, 0.06364205479621887, 0.1081521064043045], d_loss: 0.934135913848877\n",
      "niter: 5051, g_loss: [1.4329837560653687, 0.017549870535731316, 0.044895779341459274, 0.062313854694366455], d_loss: 0.42945390939712524\n",
      "niter: 5101, g_loss: [1.1639481782913208, 0.0236843042075634, 0.03880981355905533, 0.0434853695333004], d_loss: 0.29657015204429626\n",
      "niter: 5151, g_loss: [1.0248639583587646, 0.011681145057082176, 0.03596778213977814, 0.04274534061551094], d_loss: 0.19205501675605774\n",
      "niter: 5201, g_loss: [1.0417847633361816, 0.019252676516771317, 0.03821563720703125, 0.04406256973743439], d_loss: 0.13377150893211365\n",
      "niter: 5251, g_loss: [0.9908510446548462, 0.023210151121020317, 0.03626371920108795, 0.046046845614910126], d_loss: 0.12398324906826019\n",
      "niter: 5301, g_loss: [0.9702818393707275, 0.10919100046157837, 0.03159821778535843, 0.04241321608424187], d_loss: 0.1295994073152542\n",
      "niter: 5351, g_loss: [8.406723976135254, 6.85288143157959, 0.060052067041397095, 0.07765756547451019], d_loss: 1.3595980405807495\n",
      "niter: 5401, g_loss: [2.0058624744415283, 0.14236387610435486, 0.05386750400066376, 0.07212711125612259], d_loss: 0.7173328399658203\n",
      "niter: 5451, g_loss: [1.5429632663726807, 0.010168105363845825, 0.04947255924344063, 0.05922255292534828], d_loss: 0.38884246349334717\n",
      "niter: 5501, g_loss: [1.0658684968948364, 0.0022517540492117405, 0.03302447497844696, 0.04504845291376114], d_loss: 0.18536943197250366\n",
      "niter: 5551, g_loss: [1.0559725761413574, 0.0011738183675333858, 0.03636705502867699, 0.04120713099837303], d_loss: 0.11669206619262695\n",
      "niter: 5601, g_loss: [0.9436233043670654, 0.009950334206223488, 0.03263723850250244, 0.03809598460793495], d_loss: 0.1290099173784256\n",
      "niter: 5651, g_loss: [0.9514357447624207, 0.0038229976780712605, 0.034658484160900116, 0.040116459131240845], d_loss: 0.09100037068128586\n",
      "niter: 5701, g_loss: [1.0357931852340698, 0.012477679178118706, 0.039111748337745667, 0.04467472806572914], d_loss: 0.08190500736236572\n",
      "niter: 5751, g_loss: [1.2936339378356934, 0.06394359469413757, 0.05011654645204544, 0.04311516135931015], d_loss: 0.09824277460575104\n",
      "niter: 5801, g_loss: [1.1291048526763916, 0.04752735793590546, 0.043282076716423035, 0.04076351597905159], d_loss: 0.16703614592552185\n",
      "niter: 5851, g_loss: [0.9007269144058228, 0.03722669929265976, 0.03277523070573807, 0.039260681718587875], d_loss: 0.12430460005998611\n",
      "niter: 5901, g_loss: [0.9127197265625, 0.09363022446632385, 0.030708851292729378, 0.04100581631064415], d_loss: 0.11442594975233078\n",
      "niter: 5951, g_loss: [164.41265869140625, 161.82908630371094, 0.0921417772769928, 0.14005610346794128], d_loss: 0.7101689577102661\n",
      "niter: 6001, g_loss: [4.527894020080566, 0.21748697757720947, 0.09085329622030258, 0.13578727841377258], d_loss: 0.9165930151939392\n",
      "niter: 6051, g_loss: [3.457472085952759, 0.03977319970726967, 0.0740945041179657, 0.12115097045898438], d_loss: 0.3781591057777405\n",
      "niter: 6101, g_loss: [2.875978469848633, 0.023572275415062904, 0.06407417356967926, 0.1133979856967926], d_loss: 0.1996660679578781\n",
      "niter: 6151, g_loss: [2.5361289978027344, 0.024943038821220398, 0.06044906750321388, 0.09531700611114502], d_loss: 0.222633495926857\n"
     ]
    },
    {
     "name": "stdout",
     "output_type": "stream",
     "text": [
      "niter: 6201, g_loss: [2.4139480590820312, 0.11088580638170242, 0.06016005575656891, 0.07885301858186722], d_loss: 0.17482484877109528\n",
      "niter: 6251, g_loss: [2.1784191131591797, 0.059301406145095825, 0.058130137622356415, 0.07314907014369965], d_loss: 0.12595142424106598\n",
      "niter: 6301, g_loss: [1.7578623294830322, 0.06079163774847984, 0.042609915137290955, 0.07009761035442352], d_loss: 0.10162915289402008\n",
      "niter: 6351, g_loss: [2.3995280265808105, 0.4837139844894409, 0.05750224366784096, 0.07638878375291824], d_loss: 0.17605718970298767\n",
      "niter: 6401, g_loss: [1.5499449968338013, 0.06467346847057343, 0.03982328623533249, 0.0653345063328743], d_loss: 0.10483933240175247\n",
      "niter: 6451, g_loss: [1.779524326324463, 0.2536490559577942, 0.044849611818790436, 0.06419364362955093], d_loss: 0.29974302649497986\n",
      "niter: 6501, g_loss: [1.7214348316192627, 0.2160356193780899, 0.04632999747991562, 0.058841876685619354], d_loss: 0.24588492512702942\n",
      "niter: 6551, g_loss: [1.482578992843628, 0.1692555993795395, 0.03903838247060776, 0.05822448804974556], d_loss: 0.10144126415252686\n",
      "niter: 6601, g_loss: [2.380953550338745, 0.9291812181472778, 0.047448787838220596, 0.058938901871442795], d_loss: 0.49263811111450195\n",
      "niter: 6651, g_loss: [10.146405220031738, 6.637516975402832, 0.11643275618553162, 0.28819072246551514], d_loss: 1.3228108882904053\n",
      "niter: 6701, g_loss: [2.7288637161254883, 0.15414121747016907, 0.06642188876867294, 0.1577848345041275], d_loss: 0.7499628067016602\n",
      "niter: 6751, g_loss: [2.525131940841675, 0.022482652217149734, 0.07800400257110596, 0.09882578253746033], d_loss: 0.27854275703430176\n",
      "niter: 6801, g_loss: [1.7595281600952148, 0.0033895650412887335, 0.04996563494205475, 0.06641527265310287], d_loss: 0.16104598343372345\n",
      "niter: 6851, g_loss: [1.6739081144332886, 0.001293937093578279, 0.05112479627132416, 0.060727640986442566], d_loss: 0.11227007210254669\n",
      "niter: 6901, g_loss: [1.7090132236480713, 0.0020812400616705418, 0.05615769326686859, 0.0664803609251976], d_loss: 0.08584276586771011\n",
      "niter: 6951, g_loss: [1.3818738460540771, 0.026063982397317886, 0.0420367456972599, 0.05609692633152008], d_loss: 0.08218345046043396\n",
      "niter: 7001, g_loss: [1.3702387809753418, 0.08004165440797806, 0.04122822731733322, 0.051023393869400024], d_loss: 0.12198556214570999\n",
      "niter: 7051, g_loss: [1.310410976409912, 0.03655654937028885, 0.042358964681625366, 0.04786965623497963], d_loss: 0.1107572615146637\n",
      "niter: 7101, g_loss: [1.4922767877578735, 0.19406549632549286, 0.04522988200187683, 0.04310888797044754], d_loss: 0.1732531636953354\n",
      "niter: 7151, g_loss: [1.1195439100265503, 0.03803650289773941, 0.03600994870066643, 0.039905957877635956], d_loss: 0.0664423406124115\n",
      "niter: 7201, g_loss: [1.3223599195480347, 0.23814956843852997, 0.03665804862976074, 0.044635433703660965], d_loss: 0.09493258595466614\n",
      "niter: 7251, g_loss: [13.4110689163208, 10.93594741821289, 0.09532152861356735, 0.17021462321281433], d_loss: 0.8448368310928345\n",
      "niter: 7301, g_loss: [3.710723400115967, 1.6992195844650269, 0.06303344666957855, 0.11101621389389038], d_loss: 0.720014214515686\n",
      "niter: 7351, g_loss: [1.630950689315796, 0.09103619307279587, 0.0489918515086174, 0.058102793991565704], d_loss: 0.2945113480091095\n",
      "niter: 7401, g_loss: [1.3388348817825317, 0.07103237509727478, 0.04061926156282425, 0.0471310168504715], d_loss: 0.19185911118984222\n",
      "niter: 7451, g_loss: [1.143195390701294, 0.012030668556690216, 0.03696661442518234, 0.044574979692697525], d_loss: 0.12106580287218094\n",
      "niter: 7501, g_loss: [1.162446141242981, 0.02158389799296856, 0.0398869626224041, 0.03726986423134804], d_loss: 0.09335324913263321\n",
      "niter: 7551, g_loss: [0.9685715436935425, 0.009584922343492508, 0.032177720218896866, 0.03933842480182648], d_loss: 0.07372700423002243\n",
      "niter: 7601, g_loss: [1.3365705013275146, 0.06898634135723114, 0.04838726297020912, 0.04568607360124588], d_loss: 0.12050513923168182\n",
      "niter: 7651, g_loss: [1.312868356704712, 0.11125204712152481, 0.04574695602059364, 0.04449205473065376], d_loss: 0.08513578027486801\n",
      "niter: 7701, g_loss: [1.6921350955963135, 0.49981141090393066, 0.04564010351896286, 0.04597403109073639], d_loss: 0.2080007791519165\n",
      "niter: 7751, g_loss: [9.269978523254395, 6.53761100769043, 0.10208950936794281, 0.17274349927902222], d_loss: 0.6405748724937439\n",
      "niter: 7801, g_loss: [1.868628740310669, 0.06688196212053299, 0.05953405797481537, 0.08343683928251266], d_loss: 0.5253371000289917\n",
      "niter: 7851, g_loss: [1.7248356342315674, 0.061672285199165344, 0.059175822883844376, 0.0660582184791565], d_loss: 0.22717373073101044\n",
      "niter: 7901, g_loss: [1.2874457836151123, 0.010442201048135757, 0.04347597062587738, 0.057347897440195084], d_loss: 0.13193660974502563\n",
      "niter: 7951, g_loss: [1.283789038658142, 0.003951195627450943, 0.045890457928180695, 0.054830923676490784], d_loss: 0.1784595400094986\n",
      "niter: 8001, g_loss: [1.1669085025787354, 0.019100669771432877, 0.04094500094652176, 0.052491456270217896], d_loss: 0.0827217772603035\n",
      "niter: 8051, g_loss: [1.422415852546692, 0.018073413521051407, 0.05498405173420906, 0.05001924932003021], d_loss: 0.06412713974714279\n",
      "niter: 8101, g_loss: [1.2171351909637451, 0.06959052383899689, 0.042804278433322906, 0.05245218425989151], d_loss: 0.06405650824308395\n",
      "niter: 8151, g_loss: [1.146317958831787, 0.11257854104042053, 0.037699565291404724, 0.04772954061627388], d_loss: 0.07516953349113464\n",
      "niter: 8201, g_loss: [1.8100825548171997, 0.6577142477035522, 0.04379933327436447, 0.05015270411968231], d_loss: 0.381452351808548\n",
      "niter: 8251, g_loss: [4.291633605957031, 2.8794872760772705, 0.051609765738248825, 0.07637885212898254], d_loss: 0.88895583152771\n",
      "niter: 8301, g_loss: [2.040447235107422, 0.6420741081237793, 0.05238032341003418, 0.05992656201124191], d_loss: 0.574826717376709\n",
      "niter: 8351, g_loss: [1.0229514837265015, 0.06723139435052872, 0.033237505704164505, 0.04486193507909775], d_loss: 0.3024580776691437\n",
      "niter: 8401, g_loss: [0.9932502508163452, 0.021977555006742477, 0.03557979315519333, 0.043547891080379486], d_loss: 0.16660141944885254\n",
      "niter: 8451, g_loss: [1.3313807249069214, 0.03102351725101471, 0.05248655378818512, 0.04952886328101158], d_loss: 0.12333466112613678\n",
      "niter: 8501, g_loss: [1.0047931671142578, 0.05892029404640198, 0.03520233929157257, 0.046684134751558304], d_loss: 0.18762484192848206\n",
      "niter: 8551, g_loss: [1.027323842048645, 0.07163115590810776, 0.035800669342279434, 0.04691779240965843], d_loss: 0.11952520161867142\n",
      "niter: 8601, g_loss: [1.0485578775405884, 0.15225037932395935, 0.033109091222286224, 0.044227175414562225], d_loss: 0.3039766252040863\n",
      "niter: 8651, g_loss: [1.977512240409851, 0.8466084003448486, 0.043661169707775116, 0.05510248243808746], d_loss: 0.375152587890625\n",
      "niter: 8701, g_loss: [2.516494035720825, 0.9366005063056946, 0.059710174798965454, 0.07406190037727356], d_loss: 0.6851757764816284\n",
      "niter: 8751, g_loss: [1.376949429512024, 0.36338111758232117, 0.035816945135593414, 0.044218674302101135], d_loss: 0.4805571138858795\n",
      "niter: 8801, g_loss: [1.0676639080047607, 0.05402816832065582, 0.03788135573267937, 0.042192358523607254], d_loss: 0.29128915071487427\n",
      "niter: 8851, g_loss: [1.0127745866775513, 0.06902855634689331, 0.03562239930033684, 0.03970375657081604], d_loss: 0.16115975379943848\n",
      "niter: 8901, g_loss: [1.0732879638671875, 0.08196955919265747, 0.03746451437473297, 0.05034150928258896], d_loss: 0.16039946675300598\n",
      "niter: 8951, g_loss: [1.093124508857727, 0.18984907865524292, 0.03345566242933273, 0.048785269260406494], d_loss: 0.13682007789611816\n",
      "niter: 9001, g_loss: [5.833779811859131, 4.034359931945801, 0.07206592708826065, 0.12031929194927216], d_loss: 1.4352092742919922\n",
      "niter: 9051, g_loss: [1.459602952003479, 0.12016434222459793, 0.044550783932209015, 0.05099146068096161], d_loss: 0.43191781640052795\n",
      "niter: 9101, g_loss: [1.1512819528579712, 0.034758299589157104, 0.039369747042655945, 0.043700773268938065], d_loss: 0.3755013048648834\n",
      "niter: 9151, g_loss: [1.0796899795532227, 0.007546018809080124, 0.040112920105457306, 0.04239659383893013], d_loss: 0.15731805562973022\n",
      "niter: 9201, g_loss: [0.9177692532539368, 0.005393024068325758, 0.03382052481174469, 0.037687212228775024], d_loss: 0.09918366372585297\n",
      "niter: 9251, g_loss: [1.1711655855178833, 0.00958176888525486, 0.04666485637426376, 0.04602508991956711], d_loss: 0.07252997159957886\n"
     ]
    },
    {
     "name": "stdout",
     "output_type": "stream",
     "text": [
      "niter: 9301, g_loss: [0.9691296815872192, 0.01891288161277771, 0.03629441186785698, 0.04594575986266136], d_loss: 0.07336759567260742\n",
      "niter: 9351, g_loss: [1.009366750717163, 0.04025690630078316, 0.03773943707346916, 0.04370155185461044], d_loss: 0.05329078808426857\n",
      "niter: 9401, g_loss: [1.2143675088882446, 0.20436647534370422, 0.03951361030340195, 0.043733514845371246], d_loss: 0.12773539125919342\n",
      "niter: 9451, g_loss: [38.827022552490234, 36.352813720703125, 0.0925976037979126, 0.12074935436248779], d_loss: 0.5696513652801514\n",
      "niter: 9501, g_loss: [2.420362710952759, 0.3912614583969116, 0.06932172924280167, 0.07008683681488037], d_loss: 0.9009532332420349\n",
      "niter: 9551, g_loss: [1.5230125188827515, 0.07572102546691895, 0.04928513616323471, 0.058886125683784485], d_loss: 0.358889639377594\n",
      "niter: 9601, g_loss: [1.1963509321212769, 0.012864485383033752, 0.04124687612056732, 0.044870465993881226], d_loss: 0.2010284811258316\n",
      "niter: 9651, g_loss: [1.355939269065857, 0.007053623907268047, 0.05234915763139725, 0.04221638664603233], d_loss: 0.1419331580400467\n",
      "niter: 9701, g_loss: [0.9699340462684631, 0.01385347731411457, 0.03406278043985367, 0.04508581757545471], d_loss: 0.1301964372396469\n",
      "niter: 9751, g_loss: [1.0993572473526, 0.060840800404548645, 0.03918151557445526, 0.04478483274579048], d_loss: 0.18936434388160706\n",
      "niter: 9801, g_loss: [0.9808412790298462, 0.06447382271289825, 0.03384000062942505, 0.043891821056604385], d_loss: 0.11440447717905045\n",
      "niter: 9851, g_loss: [0.9993048906326294, 0.07563720643520355, 0.03487447649240494, 0.03793803229928017], d_loss: 0.2304990291595459\n",
      "niter: 9901, g_loss: [1.099226713180542, 0.04055691137909889, 0.04176543280482292, 0.046349938958883286], d_loss: 0.1546117067337036\n",
      "niter: 9951, g_loss: [0.9819247722625732, 0.12501336634159088, 0.03219722956418991, 0.04007428511977196], d_loss: 0.2520800232887268\n",
      "niter: 10001, g_loss: [1.0899332761764526, 0.08586810529232025, 0.03960464522242546, 0.04098138213157654], d_loss: 0.2350805401802063\n",
      "niter: 10051, g_loss: [1.3823325634002686, 0.25588124990463257, 0.04522789269685745, 0.048170071095228195], d_loss: 0.2830488383769989\n",
      "niter: 10101, g_loss: [2.8504507541656494, 0.7811441421508789, 0.060871437191963196, 0.10243654251098633], d_loss: 0.4499601125717163\n",
      "niter: 10151, g_loss: [1.601145625114441, 0.1640905737876892, 0.04070017486810684, 0.06382356584072113], d_loss: 0.4603821635246277\n",
      "niter: 10201, g_loss: [1.4310307502746582, 0.05378740280866623, 0.04579683393239975, 0.049726467579603195], d_loss: 0.23940490186214447\n",
      "niter: 10251, g_loss: [1.0440534353256226, 0.023941559717059135, 0.032500218600034714, 0.04186724126338959], d_loss: 0.18084506690502167\n",
      "niter: 10301, g_loss: [1.20042085647583, 0.018315576016902924, 0.04321209341287613, 0.04213954880833626], d_loss: 0.1044139564037323\n",
      "niter: 10351, g_loss: [0.970888078212738, 0.01860877498984337, 0.033403776586055756, 0.0415157824754715], d_loss: 0.19524486362934113\n",
      "niter: 10401, g_loss: [1.1306159496307373, 0.08111611008644104, 0.039181455969810486, 0.044640544801950455], d_loss: 0.153237983584404\n",
      "niter: 10451, g_loss: [1.0971474647521973, 0.07198441028594971, 0.03888745605945587, 0.04278336092829704], d_loss: 0.07925225794315338\n",
      "niter: 10501, g_loss: [2.645249843597412, 1.3526338338851929, 0.05095893144607544, 0.06416025757789612], d_loss: 1.936983346939087\n",
      "niter: 10551, g_loss: [5.255064964294434, 1.8271846771240234, 0.10749409347772598, 0.02115611545741558], d_loss: 0.5726365447044373\n",
      "niter: 10601, g_loss: [2.96608567237854, 0.23032575845718384, 0.09453675150871277, 0.04067715257406235], d_loss: 0.34884166717529297\n",
      "niter: 10651, g_loss: [2.052971601486206, 0.04219270497560501, 0.06776122748851776, 0.07938438653945923], d_loss: 0.21185407042503357\n",
      "niter: 10701, g_loss: [1.7766977548599243, 0.012624215334653854, 0.06289617717266083, 0.05689414590597153], d_loss: 0.13865529000759125\n",
      "niter: 10751, g_loss: [1.6883708238601685, 0.06389886140823364, 0.05933915823698044, 0.06822991371154785], d_loss: 0.12835338711738586\n",
      "niter: 10801, g_loss: [1.3411163091659546, 0.008832039311528206, 0.047032345086336136, 0.06643421202898026], d_loss: 0.08715972304344177\n",
      "niter: 10851, g_loss: [1.581966519355774, 0.04265742748975754, 0.058916978538036346, 0.06746251881122589], d_loss: 0.14788773655891418\n",
      "niter: 10901, g_loss: [1.2950836420059204, 0.06226634606719017, 0.04580521583557129, 0.051897890865802765], d_loss: 0.1623673141002655\n",
      "niter: 10951, g_loss: [1.1202762126922607, 0.030664103105664253, 0.03978157788515091, 0.05374763906002045], d_loss: 0.2182728499174118\n",
      "niter: 11001, g_loss: [1.1207997798919678, 0.07621534168720245, 0.03890647739171982, 0.04438495263457298], d_loss: 0.16125139594078064\n",
      "niter: 11051, g_loss: [1.1909383535385132, 0.17562954127788544, 0.03805001080036163, 0.04582802206277847], d_loss: 0.1474381983280182\n",
      "niter: 11101, g_loss: [1.4686037302017212, 0.5012418031692505, 0.03628898039460182, 0.04135771468281746], d_loss: 0.3004286289215088\n",
      "niter: 11151, g_loss: [54.527278900146484, 51.06562805175781, 0.11579228937625885, 0.0516551211476326], d_loss: 0.7569636106491089\n",
      "niter: 11201, g_loss: [3.1199021339416504, 0.2725328505039215, 0.09953625500202179, 0.022899871692061424], d_loss: 0.4164131283760071\n",
      "niter: 11251, g_loss: [2.5114898681640625, 0.02636844851076603, 0.09195685386657715, 0.03653867915272713], d_loss: 0.198746919631958\n",
      "niter: 11301, g_loss: [2.2178313732147217, 0.007550724316388369, 0.08246338367462158, 0.07799350470304489], d_loss: 0.12901070713996887\n",
      "niter: 11351, g_loss: [1.6786593198776245, 0.003976036328822374, 0.059268247336149216, 0.07533855736255646], d_loss: 0.09210917353630066\n",
      "niter: 11401, g_loss: [1.7613993883132935, 0.01170351728796959, 0.0656532347202301, 0.06962625682353973], d_loss: 0.1032961905002594\n",
      "niter: 11451, g_loss: [1.2700339555740356, 0.0016908923862501979, 0.043998219072818756, 0.05534673482179642], d_loss: 0.06859505921602249\n",
      "niter: 11501, g_loss: [1.5986007452011108, 0.045684702694416046, 0.05887729674577713, 0.0648774653673172], d_loss: 0.12006547302007675\n",
      "niter: 11551, g_loss: [1.1375396251678467, 0.017822610214352608, 0.03927774727344513, 0.0477779321372509], d_loss: 0.07226748019456863\n",
      "niter: 11601, g_loss: [1.304483413696289, 0.026499068364501, 0.048229068517684937, 0.05041773244738579], d_loss: 0.06544339656829834\n",
      "niter: 11651, g_loss: [1.1152783632278442, 0.013255161233246326, 0.04046928882598877, 0.04802582412958145], d_loss: 0.05158652737736702\n",
      "niter: 11701, g_loss: [4.002629280090332, 2.3667898178100586, 0.06494876742362976, 0.08600231260061264], d_loss: 1.0328996181488037\n",
      "niter: 11751, g_loss: [4.306231498718262, 2.204002618789673, 0.06976858526468277, 0.11758744716644287], d_loss: 0.7039963006973267\n",
      "niter: 11801, g_loss: [1.6405795812606812, 0.07330640405416489, 0.052703842520713806, 0.06817282736301422], d_loss: 0.5503437519073486\n",
      "niter: 11851, g_loss: [1.4302963018417358, 0.0243803970515728, 0.049766551703214645, 0.05883600190281868], d_loss: 0.22245410084724426\n",
      "niter: 11901, g_loss: [1.2174619436264038, 0.023043915629386902, 0.04253347963094711, 0.047684937715530396], d_loss: 0.1450011134147644\n",
      "niter: 11951, g_loss: [1.063905119895935, 0.013077921234071255, 0.037552155554294586, 0.0428180992603302], d_loss: 0.10494883358478546\n",
      "niter: 12001, g_loss: [1.137980580329895, 0.043188199400901794, 0.041015490889549255, 0.04471064731478691], d_loss: 0.10321935266256332\n",
      "niter: 12051, g_loss: [1.0934209823608398, 0.04286576807498932, 0.03967722877860069, 0.04267463460564613], d_loss: 0.09232264757156372\n",
      "niter: 12101, g_loss: [1.0961377620697021, 0.16198137402534485, 0.034203819930553436, 0.044918183237314224], d_loss: 0.25316017866134644\n",
      "niter: 12151, g_loss: [1.490023136138916, 0.403978168964386, 0.04156937077641487, 0.05137939751148224], d_loss: 0.22690580785274506\n",
      "niter: 12201, g_loss: [165.0777587890625, 162.865234375, 0.09398709237575531, 0.017948463559150696], d_loss: 1.4269118309020996\n",
      "niter: 12251, g_loss: [4.938279628753662, 2.4101452827453613, 0.09926210343837738, 0.01742410659790039], d_loss: 0.7892286777496338\n",
      "niter: 12301, g_loss: [2.532280683517456, 0.19440212845802307, 0.09703519940376282, 0.017316369339823723], d_loss: 0.35118600726127625\n",
      "niter: 12351, g_loss: [2.040598154067993, 0.03353080898523331, 0.08460178971290588, 0.02696354128420353], d_loss: 0.2183147519826889\n"
     ]
    },
    {
     "name": "stdout",
     "output_type": "stream",
     "text": [
      "niter: 12401, g_loss: [1.8718106746673584, 0.05764338746666908, 0.07418709993362427, 0.07601084560155869], d_loss: 0.16196896135807037\n",
      "niter: 12451, g_loss: [1.372761845588684, 0.048384107649326324, 0.050962936133146286, 0.06174292415380478], d_loss: 0.14550817012786865\n",
      "niter: 12501, g_loss: [1.2462726831436157, 0.01930486038327217, 0.04653816670179367, 0.05882418155670166], d_loss: 0.11609905958175659\n",
      "niter: 12551, g_loss: [3.4393105506896973, 2.2033283710479736, 0.048236917704343796, 0.051402147859334946], d_loss: 0.43175339698791504\n",
      "niter: 12601, g_loss: [3.1243724822998047, 1.7024143934249878, 0.054615914821624756, 0.07045726478099823], d_loss: 1.0016348361968994\n",
      "niter: 12651, g_loss: [1.1783943176269531, 0.09325656294822693, 0.04002147912979126, 0.05407697334885597], d_loss: 0.3932895362377167\n",
      "niter: 12701, g_loss: [1.1700533628463745, 0.057084210216999054, 0.04337874799966812, 0.04351188242435455], d_loss: 0.20994623005390167\n",
      "niter: 12751, g_loss: [0.9818583130836487, 0.03650079667568207, 0.03587271273136139, 0.04074811562895775], d_loss: 0.13870929181575775\n",
      "niter: 12801, g_loss: [1.0461196899414062, 0.06706163287162781, 0.0380108468234539, 0.041737403720617294], d_loss: 0.3560420870780945\n",
      "niter: 12851, g_loss: [1.2090847492218018, 0.03965665027499199, 0.047577083110809326, 0.044617973268032074], d_loss: 0.18038353323936462\n",
      "niter: 12901, g_loss: [0.8930423259735107, 0.037833888083696365, 0.031986624002456665, 0.04722683131694794], d_loss: 0.2715015113353729\n",
      "niter: 12951, g_loss: [1.937699556350708, 0.7350680828094482, 0.04911460727453232, 0.045868489891290665], d_loss: 0.27473172545433044\n",
      "niter: 13001, g_loss: [1.677594542503357, 0.48794853687286377, 0.04563754051923752, 0.06335270404815674], d_loss: 0.627682089805603\n",
      "niter: 13051, g_loss: [3.1751766204833984, 1.9823822975158691, 0.046258699148893356, 0.05034109950065613], d_loss: 0.7937053442001343\n",
      "niter: 13101, g_loss: [1.662501573562622, 0.49095165729522705, 0.04609087482094765, 0.04939911141991615], d_loss: 0.41615739464759827\n",
      "niter: 13151, g_loss: [1.0605038404464722, 0.10589369386434555, 0.03576628118753433, 0.04778335988521576], d_loss: 0.6526278257369995\n",
      "niter: 13201, g_loss: [1.0804004669189453, 0.0989803671836853, 0.03761569783091545, 0.04659280180931091], d_loss: 0.5074431896209717\n",
      "niter: 13251, g_loss: [1.0563040971755981, 0.06848112493753433, 0.038352347910404205, 0.04549187421798706], d_loss: 0.3653871417045593\n",
      "niter: 13301, g_loss: [1.1556332111358643, 0.15608465671539307, 0.03886151686310768, 0.04706212133169174], d_loss: 0.38599246740341187\n",
      "niter: 13351, g_loss: [4.101716995239258, 2.6955771446228027, 0.05743633955717087, 0.05932819843292236], d_loss: 1.7612496614456177\n",
      "niter: 13401, g_loss: [1.5806527137756348, 0.1792425960302353, 0.049772121012210846, 0.06470125913619995], d_loss: 0.7168008089065552\n",
      "niter: 13451, g_loss: [1.4556702375411987, 0.11458629369735718, 0.05183311179280281, 0.048858221620321274], d_loss: 0.6266663670539856\n",
      "niter: 13501, g_loss: [1.2713465690612793, 0.02093501016497612, 0.049511898308992386, 0.04869121313095093], d_loss: 0.2897436022758484\n",
      "niter: 13551, g_loss: [1.031352162361145, 0.007900014519691467, 0.039486706256866455, 0.04223662242293358], d_loss: 0.2090333104133606\n",
      "niter: 13601, g_loss: [0.9121426939964294, 0.007473587524145842, 0.03421831130981445, 0.04334404319524765], d_loss: 0.15427502989768982\n",
      "niter: 13651, g_loss: [0.9864858984947205, 0.07146415114402771, 0.035088084638118744, 0.042179737240076065], d_loss: 0.20784732699394226\n",
      "niter: 13701, g_loss: [0.9712821841239929, 0.05562172830104828, 0.03502696007490158, 0.04422248899936676], d_loss: 0.2561621069908142\n",
      "niter: 13751, g_loss: [1.0615296363830566, 0.20586279034614563, 0.03174350783228874, 0.04709986224770546], d_loss: 0.42112237215042114\n",
      "niter: 13801, g_loss: [1.427018165588379, 0.3746979832649231, 0.041507408022880554, 0.05016190558671951], d_loss: 0.23967966437339783\n",
      "niter: 13851, g_loss: [1.6314343214035034, 0.38839006423950195, 0.050058797001838684, 0.060360025614500046], d_loss: 0.741076648235321\n",
      "niter: 13901, g_loss: [19.215099334716797, 17.503582000732422, 0.06709626317024231, 0.09892480075359344], d_loss: 1.1002179384231567\n",
      "niter: 13951, g_loss: [1.748391032218933, 0.5221887826919556, 0.03967410326004028, 0.05495351925492287], d_loss: 1.2324917316436768\n",
      "niter: 14001, g_loss: [1.218772530555725, 0.03479541093111038, 0.04388783127069473, 0.0399574339389801], d_loss: 0.5724789500236511\n",
      "niter: 14051, g_loss: [0.9988903999328613, 0.009111609309911728, 0.0366082563996315, 0.040034908801317215], d_loss: 0.24239997565746307\n",
      "niter: 14101, g_loss: [0.9441114664077759, 0.005342526361346245, 0.035301804542541504, 0.040330931544303894], d_loss: 0.18781204521656036\n",
      "niter: 14151, g_loss: [1.0312532186508179, 0.0045577362179756165, 0.04035280644893646, 0.04178023338317871], d_loss: 0.13070884346961975\n",
      "niter: 14201, g_loss: [1.053320050239563, 0.005714673548936844, 0.04172888025641441, 0.04398275539278984], d_loss: 0.11596383154392242\n",
      "niter: 14251, g_loss: [1.0831903219223022, 0.06132998317480087, 0.040378373116254807, 0.04572898894548416], d_loss: 0.13014282286167145\n",
      "niter: 14301, g_loss: [1.257280707359314, 0.08378525078296661, 0.048028551042079926, 0.04711631312966347], d_loss: 0.20474474132061005\n",
      "niter: 14351, g_loss: [1.1372898817062378, 0.2056463211774826, 0.036237962543964386, 0.042063165456056595], d_loss: 0.28585562109947205\n",
      "niter: 14401, g_loss: [4.349057674407959, 3.039198398590088, 0.05244334042072296, 0.05003967881202698], d_loss: 0.7580475807189941\n",
      "niter: 14451, g_loss: [1.281961441040039, 0.35563379526138306, 0.034559208899736404, 0.04412228614091873], d_loss: 0.5585870742797852\n",
      "niter: 14501, g_loss: [1.0265893936157227, 0.11359244585037231, 0.034584030508995056, 0.04674976319074631], d_loss: 0.3375796675682068\n",
      "niter: 14551, g_loss: [0.9445218443870544, 0.07745160162448883, 0.032969072461128235, 0.04192671924829483], d_loss: 0.1770356297492981\n",
      "niter: 14601, g_loss: [0.8736370801925659, 0.03720218688249588, 0.03180062770843506, 0.04103979095816612], d_loss: 0.15306709706783295\n",
      "niter: 14651, g_loss: [1.07875657081604, 0.06621268391609192, 0.0407467745244503, 0.04285873472690582], d_loss: 0.17812851071357727\n",
      "niter: 14701, g_loss: [1.7222554683685303, 0.6394249200820923, 0.044012367725372314, 0.046355973929166794], d_loss: 0.3010252118110657\n",
      "niter: 14751, g_loss: [5.3036065101623535, 3.4233546257019043, 0.06419434398412704, 0.08310151100158691], d_loss: 0.4122222065925598\n",
      "niter: 14801, g_loss: [1.4409735202789307, 0.173171728849411, 0.04221367463469505, 0.05378015339374542], d_loss: 0.4878498315811157\n",
      "niter: 14851, g_loss: [1.1618596315383911, 0.07208111137151718, 0.03892846405506134, 0.043382227420806885], d_loss: 0.42522096633911133\n",
      "niter: 14901, g_loss: [0.9829752445220947, 0.028961000964045525, 0.034543171525001526, 0.04158138856291771], d_loss: 0.14733801782131195\n",
      "niter: 14951, g_loss: [1.0380884408950806, 0.012839186936616898, 0.03908903896808624, 0.04481504112482071], d_loss: 0.14879481494426727\n",
      "niter: 15001, g_loss: [0.9627888798713684, 0.08092176914215088, 0.03299421817064285, 0.04029213637113571], d_loss: 0.12254182249307632\n",
      "niter: 15051, g_loss: [0.9786717295646667, 0.09879684448242188, 0.03337526693940163, 0.03939377889037132], d_loss: 0.27318522334098816\n",
      "niter: 15101, g_loss: [1.1520764827728271, 0.21486133337020874, 0.03628518432378769, 0.044295646250247955], d_loss: 0.3268493711948395\n",
      "niter: 15151, g_loss: [5.619114398956299, 4.389680862426758, 0.04946329444646835, 0.04903246462345123], d_loss: 0.9010035991668701\n",
      "niter: 15201, g_loss: [1.8384238481521606, 0.052564188838005066, 0.052416738122701645, 0.07850755751132965], d_loss: 0.6001924276351929\n",
      "niter: 15251, g_loss: [1.2876795530319214, 0.06147380918264389, 0.03787219524383545, 0.05481402203440666], d_loss: 0.649980366230011\n",
      "niter: 15301, g_loss: [1.1181397438049316, 0.018464671447873116, 0.03698646277189255, 0.048546094447374344], d_loss: 0.26655149459838867\n",
      "niter: 15351, g_loss: [1.0215407609939575, 0.007314138114452362, 0.035481490194797516, 0.04566070809960365], d_loss: 0.16301791369915009\n",
      "niter: 15401, g_loss: [0.9855903387069702, 0.006808944512158632, 0.035556308925151825, 0.04232482984662056], d_loss: 0.12379546463489532\n"
     ]
    },
    {
     "name": "stdout",
     "output_type": "stream",
     "text": [
      "niter: 15451, g_loss: [0.9189159870147705, 0.010203922167420387, 0.03340235352516174, 0.03748510777950287], d_loss: 0.11150958389043808\n",
      "niter: 15501, g_loss: [0.9549574851989746, 0.010307572782039642, 0.035700343549251556, 0.04179080203175545], d_loss: 0.08957415819168091\n",
      "niter: 15551, g_loss: [1.0478992462158203, 0.008215745911002159, 0.04098791256546974, 0.04480746388435364], d_loss: 0.19020842015743256\n",
      "niter: 15601, g_loss: [0.9948033094406128, 0.11659502983093262, 0.03340717405080795, 0.03678203374147415], d_loss: 0.1749354600906372\n",
      "niter: 15651, g_loss: [1.1823554039001465, 0.28863561153411865, 0.0339464396238327, 0.04382895305752754], d_loss: 0.30615511536598206\n",
      "niter: 15701, g_loss: [1.5646506547927856, 0.43010708689689636, 0.0454009473323822, 0.047331035137176514], d_loss: 0.20612116158008575\n",
      "niter: 15751, g_loss: [4.335566997528076, 3.026726245880127, 0.0510457307100296, 0.056328970938920975], d_loss: 0.5868594646453857\n",
      "niter: 15801, g_loss: [1.4720897674560547, 0.3160172998905182, 0.04362064599990845, 0.047940824180841446], d_loss: 0.6210992932319641\n",
      "niter: 15851, g_loss: [1.0117701292037964, 0.10890968888998032, 0.033562563359737396, 0.04155747592449188], d_loss: 0.28134793043136597\n",
      "niter: 15901, g_loss: [0.8903200626373291, 0.039157137274742126, 0.032306887209415436, 0.0391816645860672], d_loss: 0.17076393961906433\n",
      "niter: 15951, g_loss: [0.8923231959342957, 0.03298702836036682, 0.03356029838323593, 0.03336206078529358], d_loss: 0.2175917625427246\n",
      "niter: 16001, g_loss: [0.9018234610557556, 0.06793498992919922, 0.03232467547059059, 0.03530098870396614], d_loss: 0.15808391571044922\n",
      "niter: 16051, g_loss: [0.9061422348022461, 0.09227274358272552, 0.031266652047634125, 0.03762789070606232], d_loss: 0.4042791426181793\n",
      "niter: 16101, g_loss: [0.8584620952606201, 0.030087333172559738, 0.03220111131668091, 0.039301760494709015], d_loss: 0.2527117431163788\n",
      "niter: 16151, g_loss: [1.3208853006362915, 0.35442647337913513, 0.03881875425577164, 0.041577089577913284], d_loss: 0.23578335344791412\n",
      "niter: 16201, g_loss: [2.5506443977355957, 1.244102954864502, 0.05000600963830948, 0.05734291300177574], d_loss: 1.303227424621582\n",
      "niter: 16251, g_loss: [1.0848585367202759, 0.09232102334499359, 0.036957912147045135, 0.038223911076784134], d_loss: 0.6893907785415649\n",
      "niter: 16301, g_loss: [1.023330807685852, 0.08313284814357758, 0.036343641579151154, 0.04016707465052605], d_loss: 0.3573785126209259\n",
      "niter: 16351, g_loss: [1.018819808959961, 0.045129574835300446, 0.0390467531979084, 0.0371428057551384], d_loss: 0.5003393888473511\n",
      "niter: 16401, g_loss: [0.9987782835960388, 0.08458493649959564, 0.036523282527923584, 0.03441183641552925], d_loss: 0.1989261358976364\n",
      "niter: 16451, g_loss: [0.9152104258537292, 0.02406150847673416, 0.035424891859292984, 0.039155613631010056], d_loss: 0.18954233825206757\n",
      "niter: 16501, g_loss: [0.8053765892982483, 0.029637079685926437, 0.02982661873102188, 0.03882695734500885], d_loss: 0.1384350061416626\n",
      "niter: 16551, g_loss: [0.9291287064552307, 0.05078655481338501, 0.035125505179166794, 0.03720131516456604], d_loss: 0.16652123630046844\n",
      "niter: 16601, g_loss: [1.4529036283493042, 0.37012219429016113, 0.044175416231155396, 0.048321016132831573], d_loss: 0.327942430973053\n",
      "niter: 16651, g_loss: [1.1486907005310059, 0.16731485724449158, 0.035428889095783234, 0.040458742529153824], d_loss: 1.1292991638183594\n",
      "niter: 16701, g_loss: [1.0985506772994995, 0.11351226270198822, 0.03844854235649109, 0.0356467142701149], d_loss: 0.5597074627876282\n",
      "niter: 16751, g_loss: [0.9765468239784241, 0.05776311084628105, 0.03658958524465561, 0.03634583204984665], d_loss: 0.3416807949542999\n",
      "niter: 16801, g_loss: [0.8342043161392212, 0.017136940732598305, 0.032136619091033936, 0.03284914419054985], d_loss: 0.35629913210868835\n",
      "niter: 16851, g_loss: [0.908710241317749, 0.016969852149486542, 0.03593006730079651, 0.035507164895534515], d_loss: 0.22750847041606903\n",
      "niter: 16901, g_loss: [0.9378283023834229, 0.021016623824834824, 0.03726585954427719, 0.03665746748447418], d_loss: 0.11322683840990067\n",
      "niter: 16951, g_loss: [0.8761305212974548, 0.07928773015737534, 0.03132743388414383, 0.035134900361299515], d_loss: 0.16573023796081543\n",
      "niter: 17001, g_loss: [1.3095853328704834, 0.3158728778362274, 0.04041607305407524, 0.03894354775547981], d_loss: 0.7726120948791504\n",
      "niter: 17051, g_loss: [1.4141002893447876, 0.3766915798187256, 0.04137928783893585, 0.037567656487226486], d_loss: 0.795103907585144\n",
      "niter: 17101, g_loss: [0.9248636960983276, 0.1381111443042755, 0.030179038643836975, 0.03308211639523506], d_loss: 0.6045648455619812\n",
      "niter: 17151, g_loss: [0.8861913084983826, 0.0521891713142395, 0.03301260620355606, 0.03805171698331833], d_loss: 0.3297289311885834\n",
      "niter: 17201, g_loss: [0.8589192032814026, 0.04779796302318573, 0.03210965916514397, 0.037604428827762604], d_loss: 0.336811900138855\n",
      "niter: 17251, g_loss: [1.0018322467803955, 0.05083067715167999, 0.03919778764247894, 0.03854186460375786], d_loss: 0.1681465208530426\n",
      "niter: 17301, g_loss: [0.9353027939796448, 0.03439696505665779, 0.03673817217350006, 0.039243653416633606], d_loss: 0.21699559688568115\n",
      "niter: 17351, g_loss: [0.9281073212623596, 0.14896094799041748, 0.03048882633447647, 0.036871153861284256], d_loss: 0.5259373188018799\n",
      "niter: 17401, g_loss: [0.9644721746444702, 0.07406815141439438, 0.036196932196617126, 0.03496760502457619], d_loss: 0.22440074384212494\n",
      "niter: 17451, g_loss: [1.199075698852539, 0.25912120938301086, 0.03861332684755325, 0.03639756143093109], d_loss: 0.4343729019165039\n",
      "niter: 17501, g_loss: [17.42241859436035, 14.105413436889648, 0.1027180403470993, 0.1362074613571167], d_loss: 0.9868673086166382\n",
      "niter: 17551, g_loss: [6.325058937072754, 0.336067259311676, 0.08480478078126907, 0.06758406013250351], d_loss: 1.7963591814041138\n",
      "niter: 17601, g_loss: [5.247592926025391, 0.02436468005180359, 0.07040742039680481, 0.09702098369598389], d_loss: 0.6134383678436279\n",
      "niter: 17651, g_loss: [4.9264936447143555, 0.008355465717613697, 0.07648147642612457, 0.09188606590032578], d_loss: 0.31377118825912476\n",
      "niter: 17701, g_loss: [4.404187202453613, 0.003619424533098936, 0.0683574229478836, 0.08045919239521027], d_loss: 0.2264719307422638\n",
      "niter: 17751, g_loss: [4.089535713195801, 0.0031907535158097744, 0.06710255146026611, 0.07617063820362091], d_loss: 0.15888197720050812\n",
      "niter: 17801, g_loss: [3.865553379058838, 0.012280885130167007, 0.06754988431930542, 0.07627410441637039], d_loss: 0.1460883617401123\n",
      "niter: 17851, g_loss: [3.7004308700561523, 0.008833181113004684, 0.06965698301792145, 0.08109280467033386], d_loss: 0.1137692853808403\n",
      "niter: 17901, g_loss: [3.8949522972106934, 0.3410954475402832, 0.07184560596942902, 0.07750096172094345], d_loss: 0.2800556719303131\n",
      "niter: 17951, g_loss: [3.3725650310516357, 0.16364127397537231, 0.062088996171951294, 0.08576706051826477], d_loss: 0.252435564994812\n",
      "niter: 18001, g_loss: [3.199781656265259, 0.061806268990039825, 0.06611434370279312, 0.07647847384214401], d_loss: 0.14439556002616882\n",
      "niter: 18051, g_loss: [2.840954303741455, 0.01903061755001545, 0.05676620453596115, 0.07424690574407578], d_loss: 0.09958425164222717\n",
      "niter: 18101, g_loss: [2.814251184463501, 0.11519042402505875, 0.0560484379529953, 0.0761859342455864], d_loss: 0.15563760697841644\n",
      "niter: 18151, g_loss: [2.834494113922119, 0.05175316333770752, 0.06528234481811523, 0.07788491994142532], d_loss: 0.1074114590883255\n",
      "niter: 18201, g_loss: [2.569697856903076, 0.06587223708629608, 0.05606157332658768, 0.07475616782903671], d_loss: 0.09225507825613022\n",
      "niter: 18251, g_loss: [2.5649399757385254, 0.1888195127248764, 0.05339818820357323, 0.08026345819234848], d_loss: 0.1175316572189331\n",
      "niter: 18301, g_loss: [2.7246525287628174, 0.10300827026367188, 0.06904977560043335, 0.08573739230632782], d_loss: 0.08978693187236786\n",
      "niter: 18351, g_loss: [6.922841548919678, 4.40526008605957, 0.06520570069551468, 0.12187349051237106], d_loss: 0.48264625668525696\n",
      "niter: 18401, g_loss: [15.766267776489258, 11.62867259979248, 0.10634633153676987, 0.19576182961463928], d_loss: 1.3545666933059692\n",
      "niter: 18451, g_loss: [3.8195993900299072, 0.16021454334259033, 0.09360384941101074, 0.10977785289287567], d_loss: 0.5319234728813171\n"
     ]
    },
    {
     "name": "stdout",
     "output_type": "stream",
     "text": [
      "niter: 18501, g_loss: [3.414661169052124, 0.03952164947986603, 0.08777976781129837, 0.08870410174131393], d_loss: 0.29636654257774353\n",
      "niter: 18551, g_loss: [3.248584508895874, 0.013564866967499256, 0.08733582496643066, 0.07844294607639313], d_loss: 0.1956167072057724\n",
      "niter: 18601, g_loss: [2.8729374408721924, 0.009427589364349842, 0.07429510354995728, 0.07075092941522598], d_loss: 0.14637844264507294\n",
      "niter: 18651, g_loss: [2.9748950004577637, 0.009511910378932953, 0.08315005898475647, 0.08461827039718628], d_loss: 0.11570523679256439\n",
      "niter: 18701, g_loss: [2.700169324874878, 0.05223878100514412, 0.07150180637836456, 0.07767003029584885], d_loss: 0.10795307904481888\n",
      "niter: 18751, g_loss: [3.5513908863067627, 1.054714560508728, 0.06764720380306244, 0.07575178146362305], d_loss: 0.20325574278831482\n",
      "niter: 18801, g_loss: [2.656456708908081, 0.09973812103271484, 0.0733688622713089, 0.08281949162483215], d_loss: 0.11019542813301086\n",
      "niter: 18851, g_loss: [2.346540689468384, 0.030772801488637924, 0.06507694721221924, 0.07355771213769913], d_loss: 0.07393696904182434\n",
      "niter: 18901, g_loss: [2.2735424041748047, 0.014435536228120327, 0.06511510908603668, 0.07192036509513855], d_loss: 0.060118336230516434\n",
      "niter: 18951, g_loss: [2.7089858055114746, 0.4604555368423462, 0.06565320491790771, 0.08665867149829865], d_loss: 0.14749270677566528\n",
      "niter: 19001, g_loss: [2.0502512454986572, 0.12551093101501465, 0.05172920227050781, 0.08503542095422745], d_loss: 0.11233378946781158\n",
      "niter: 19051, g_loss: [2.0465035438537598, 0.13121071457862854, 0.05408526211977005, 0.07474344968795776], d_loss: 0.18734833598136902\n",
      "niter: 19101, g_loss: [1.976947546005249, 0.029795026406645775, 0.05778776481747627, 0.07432357221841812], d_loss: 0.0764765739440918\n",
      "niter: 19151, g_loss: [1.743959903717041, 0.04563829302787781, 0.04765916243195534, 0.06570963561534882], d_loss: 0.0901590958237648\n",
      "niter: 19201, g_loss: [1.7593333721160889, 0.14694681763648987, 0.04537272825837135, 0.058681685477495193], d_loss: 0.09448496997356415\n",
      "niter: 19251, g_loss: [1.7167792320251465, 0.04797102510929108, 0.04994014650583267, 0.05828287824988365], d_loss: 0.0851738378405571\n",
      "niter: 19301, g_loss: [1.8312652111053467, 0.22319979965686798, 0.047897614538669586, 0.06480296701192856], d_loss: 0.19146892428398132\n",
      "niter: 19351, g_loss: [3.0223796367645264, 1.3589317798614502, 0.051700055599212646, 0.06584840267896652], d_loss: 0.21628108620643616\n",
      "niter: 19401, g_loss: [8.940641403198242, 5.673233509063721, 0.10576644539833069, 0.21386052668094635], d_loss: 1.1531985998153687\n",
      "niter: 19451, g_loss: [3.0705037117004395, 0.1526089310646057, 0.08430427312850952, 0.14950653910636902], d_loss: 0.6357393860816956\n",
      "niter: 19501, g_loss: [2.422276735305786, 0.01951809786260128, 0.06949707865715027, 0.0969761312007904], d_loss: 0.28873419761657715\n",
      "niter: 19551, g_loss: [2.1563167572021484, 0.004811993800103664, 0.06399721652269363, 0.07180147618055344], d_loss: 0.18606562912464142\n",
      "niter: 19601, g_loss: [2.2065224647521973, 0.012250134721398354, 0.07084894925355911, 0.06538163125514984], d_loss: 0.14529184997081757\n",
      "niter: 19651, g_loss: [2.2017345428466797, 0.04155077040195465, 0.07268685102462769, 0.06179213523864746], d_loss: 0.17215147614479065\n",
      "niter: 19701, g_loss: [1.8675378561019897, 0.04271381348371506, 0.05858752503991127, 0.06071107089519501], d_loss: 0.11943630874156952\n",
      "niter: 19751, g_loss: [1.637697458267212, 0.02395743876695633, 0.050493717193603516, 0.05671204626560211], d_loss: 0.12016624212265015\n",
      "niter: 19801, g_loss: [1.6000362634658813, 0.0703011229634285, 0.04824879392981529, 0.053519170731306076], d_loss: 0.13835985958576202\n",
      "niter: 19851, g_loss: [1.7141081094741821, 0.06738534569740295, 0.055524714291095734, 0.058087460696697235], d_loss: 0.2698608934879303\n",
      "niter: 19901, g_loss: [1.4099241495132446, 0.029283154755830765, 0.043977245688438416, 0.054531022906303406], d_loss: 0.13569390773773193\n",
      "niter: 19951, g_loss: [1.3319332599639893, 0.026851437985897064, 0.04200614243745804, 0.04538191854953766], d_loss: 0.1021784096956253\n"
     ]
    }
   ],
   "source": [
    "for i in range(niter):\n",
    "    \n",
    "    ### get batch x, y ###\n",
    "    x, y = train_data_generator.__next__()\n",
    "        \n",
    "    ### train disciminator ###\n",
    "    d.trainable = True\n",
    "        \n",
    "    fake_x = g.predict(x)\n",
    "        \n",
    "    d_x = np.concatenate([x, fake_x], axis=0)\n",
    "    d_y = np.concatenate([np.zeros(len(x)), np.ones(len(fake_x))], axis=0)\n",
    "        \n",
    "    d_loss = d.train_on_batch(d_x, d_y)\n",
    "\n",
    "    ### train generator ###\n",
    "    \n",
    "    d.trainable = False        \n",
    "    g_loss = gan_trainer.train_on_batch(x, y)\n",
    "    \n",
    "    if i % 50 == 0:\n",
    "        print(f'niter: {i+1}, g_loss: {g_loss}, d_loss: {d_loss}')"
   ]
  },
  {
   "cell_type": "code",
   "execution_count": 30,
   "metadata": {},
   "outputs": [],
   "source": [
    "#Evaluation\n",
    "encoded = g_e.predict(dataAB_p_r)\n",
    "gan_x = g.predict(dataAB_p_r)\n",
    "encoded_gan = g_e.predict(gan_x)\n",
    "score = np.sum(np.absolute(encoded - encoded_gan), axis=-1)\n",
    "score = (score - np.min(score)) / (np.max(score) - np.min(score)) # map to 0~1\n",
    "score_simple = np.sum(score,axis = 0)\n",
    "score_simple=score_simple/len(score)"
   ]
  },
  {
   "cell_type": "code",
   "execution_count": 31,
   "metadata": {},
   "outputs": [
    {
     "data": {
      "text/plain": [
       "0.1795628865559896"
      ]
     },
     "execution_count": 31,
     "metadata": {},
     "output_type": "execute_result"
    }
   ],
   "source": [
    "score_simple"
   ]
  },
  {
   "cell_type": "code",
   "execution_count": 32,
   "metadata": {},
   "outputs": [
    {
     "data": {
      "text/plain": [
       "array([0.08855354, 0.06516114, 0.35208654, ..., 0.18425399, 0.06397457,\n",
       "       0.0483288 ], dtype=float32)"
      ]
     },
     "execution_count": 32,
     "metadata": {},
     "output_type": "execute_result"
    }
   ],
   "source": [
    "score"
   ]
  },
  {
   "cell_type": "code",
   "execution_count": 33,
   "metadata": {},
   "outputs": [
    {
     "data": {
      "text/plain": [
       "<matplotlib.collections.PathCollection at 0x248e631f7f0>"
      ]
     },
     "execution_count": 33,
     "metadata": {},
     "output_type": "execute_result"
    },
    {
     "data": {
      "image/png": "[encoded data removed]",
      "text/plain": [
       "<Figure size 1008x360 with 1 Axes>"
      ]
     },
     "metadata": {
      "needs_background": "light"
     },
     "output_type": "display_data"
    }
   ],
   "source": [
    "from matplotlib import pyplot as plt\n",
    "from pylab import rcParams\n",
    "rcParams['figure.figsize'] = 14, 5\n",
    "plt.scatter(range(len(dataAB_p)),score, c=['skyblue' if x == 0 else 'pink' for x in labelAB])"
   ]
  },
  {
   "cell_type": "code",
   "execution_count": 34,
   "metadata": {},
   "outputs": [
    {
     "data": {
      "text/plain": [
       "(2163,)"
      ]
     },
     "execution_count": 34,
     "metadata": {},
     "output_type": "execute_result"
    }
   ],
   "source": [
    "y_test.shape"
   ]
  },
  {
   "cell_type": "code",
   "execution_count": 35,
   "metadata": {},
   "outputs": [
    {
     "data": {
      "text/plain": [
       "<matplotlib.image.AxesImage at 0x248e6176dc0>"
      ]
     },
     "execution_count": 35,
     "metadata": {},
     "output_type": "execute_result"
    },
    {
     "data": {
      "image/png": "[encoded data removed]",
      "text/plain": [
       "<Figure size 1008x360 with 1 Axes>"
      ]
     },
     "metadata": {
      "needs_background": "light"
     },
     "output_type": "display_data"
    }
   ],
   "source": [
    "i = 4 # or 1\n",
    "image = np.reshape(gan_x[i:i+1], (16, 16))\n",
    "image = image * 127 + 127\n",
    "plt.imshow(image.astype(np.uint8), cmap='gray')"
   ]
  },
  {
   "cell_type": "code",
   "execution_count": 38,
   "metadata": {},
   "outputs": [
    {
     "data": {
      "text/plain": [
       "<matplotlib.image.AxesImage at 0x248dbe8e9a0>"
      ]
     },
     "execution_count": 38,
     "metadata": {},
     "output_type": "execute_result"
    },
    {
     "data": {
      "image/png": "[encoded data removed]",
      "text/plain": [
       "<Figure size 1008x360 with 1 Axes>"
      ]
     },
     "metadata": {
      "needs_background": "light"
     },
     "output_type": "display_data"
    }
   ],
   "source": [
    "\n",
    "image = np.reshape(dataAB_p_r[i:i+1], (16, 16))\n",
    "image = image * 127 + 127\n",
    "plt.imshow(image.astype(np.uint8), cmap='gray')"
   ]
  },
  {
   "cell_type": "code",
   "execution_count": null,
   "metadata": {},
   "outputs": [],
   "source": []
  }
 ],
 "metadata": {
  "kernelspec": {
   "display_name": "Python 3",
   "language": "python",
   "name": "python3"
  },
  "language_info": {
   "codemirror_mode": {
    "name": "ipython",
    "version": 3
   },
   "file_extension": ".py",
   "mimetype": "text/x-python",
   "name": "python",
   "nbconvert_exporter": "python",
   "pygments_lexer": "ipython3",
   "version": "3.7.9"
  }
 },
 "nbformat": 4,
 "nbformat_minor": 4
}
