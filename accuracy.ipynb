{
 "cells": [
  {
   "cell_type": "code",
   "execution_count": 1,
   "id": "suspected-relay",
   "metadata": {},
   "outputs": [],
   "source": [
    "import tensorflow as tf\n",
    "import glob\n",
    "import imageio\n",
    "import matplotlib.pyplot as plt\n",
    "import numpy as np\n",
    "import os\n",
    "import PIL\n",
    "from tensorflow.keras import layers\n",
    "import time\n",
    "from sklearn.preprocessing import StandardScaler\n",
    "from sklearn.preprocessing import MinMaxScaler\n",
    "from IPython import display\n",
    "import random\n",
    "from sklearn.decomposition import PCA\n",
    "from sklearn.metrics import precision_recall_fscore_support,accuracy_score"
   ]
  },
  {
   "cell_type": "code",
   "execution_count": 157,
   "id": "right-privilege",
   "metadata": {},
   "outputs": [],
   "source": [
    "model='DCGAN'"
   ]
  },
  {
   "cell_type": "code",
   "execution_count": 158,
   "id": "certain-notebook",
   "metadata": {},
   "outputs": [],
   "source": [
    "scoreD_a=np.load('./'+model+'_score/ownerA/score_ownerA.npy',allow_pickle=True)\n",
    "labelD_a=np.load('./'+model+'_score/ownerA/label_ownerA.npy',allow_pickle=True)"
   ]
  },
  {
   "cell_type": "code",
   "execution_count": 159,
   "id": "extraordinary-graphic",
   "metadata": {},
   "outputs": [],
   "source": [
    "scoreD_b=np.load('./'+model+'_score/ownerB/score_ownerB.npy',allow_pickle=True)\n",
    "labelD_b=np.load('./'+model+'_score/ownerB/label_ownerB.npy',allow_pickle=True)"
   ]
  },
  {
   "cell_type": "code",
   "execution_count": 160,
   "id": "nasty-recall",
   "metadata": {},
   "outputs": [],
   "source": [
    "scoreD_c=np.load('./'+model+'_score/ownerC/score_ownerC.npy',allow_pickle=True)\n",
    "labelD_c=np.load('./'+model+'_score/ownerC/label_ownerC.npy',allow_pickle=True)"
   ]
  },
  {
   "cell_type": "code",
   "execution_count": 161,
   "id": "entitled-sample",
   "metadata": {
    "scrolled": true
   },
   "outputs": [],
   "source": [
    "scoreD_d=np.load('./'+model+'_score/ownerD/score_ownerD.npy',allow_pickle=True)\n",
    "labelD_d=np.load('./'+model+'_score/ownerD/label_ownerD.npy',allow_pickle=True)"
   ]
  },
  {
   "cell_type": "code",
   "execution_count": 162,
   "id": "checked-retention",
   "metadata": {},
   "outputs": [],
   "source": [
    "from sklearn.metrics import precision_recall_fscore_support,accuracy_score\n",
    "precisiona = np.empty([scoreD_a.shape[0]-1])\n",
    "recalla = np.empty([scoreD_a.shape[0]-1])\n",
    "f1a = np.empty([scoreD_a.shape[0]-1])\n",
    "acca = np.empty([scoreD_a.shape[0]-1])\n",
    "for i in range (scoreD_a.shape[0]-1):\n",
    "    precisiona[i], recalla[i], f1a[i], _ = precision_recall_fscore_support(labelD_a, scoreD_a[i+1], average='binary')\n",
    "    acca[i] = accuracy_score(labelD_a, scoreD_a[i+1])"
   ]
  },
  {
   "cell_type": "code",
   "execution_count": 163,
   "id": "integrated-pipeline",
   "metadata": {},
   "outputs": [],
   "source": [
    "from sklearn.metrics import precision_recall_fscore_support,accuracy_score\n",
    "precisionb = np.empty([scoreD_b.shape[0]-1])\n",
    "recallb = np.empty([scoreD_b.shape[0]-1])\n",
    "f1b = np.empty([scoreD_b.shape[0]-1])\n",
    "accb = np.empty([scoreD_b.shape[0]-1])\n",
    "for i in range (scoreD_b.shape[0]-1):\n",
    "    precisionb[i], recallb[i], f1b[i], _ = precision_recall_fscore_support(labelD_b, scoreD_b[i+1], average='binary')\n",
    "    accb[i] = accuracy_score(labelD_b, scoreD_b[i+1])"
   ]
  },
  {
   "cell_type": "code",
   "execution_count": 164,
   "id": "certified-burlington",
   "metadata": {},
   "outputs": [],
   "source": [
    "from sklearn.metrics import precision_recall_fscore_support,accuracy_score\n",
    "precisionc = np.empty([scoreD_c.shape[0]-1])\n",
    "recallc = np.empty([scoreD_c.shape[0]-1])\n",
    "f1c = np.empty([scoreD_c.shape[0]-1])\n",
    "accc = np.empty([scoreD_c.shape[0]-1])\n",
    "for i in range (scoreD_c.shape[0]-1):\n",
    "    precisionc[i], recallc[i], f1c[i], _ = precision_recall_fscore_support(labelD_c, scoreD_c[i+1], average='binary')\n",
    "    accc[i] = accuracy_score(labelD_c, scoreD_c[i+1])"
   ]
  },
  {
   "cell_type": "code",
   "execution_count": 165,
   "id": "numeric-kennedy",
   "metadata": {},
   "outputs": [],
   "source": [
    "from sklearn.metrics import precision_recall_fscore_support,accuracy_score\n",
    "precisiond = np.empty([scoreD_d.shape[0]-1])\n",
    "recalld = np.empty([scoreD_d.shape[0]-1])\n",
    "f1d = np.empty([scoreD_d.shape[0]-1])\n",
    "accd = np.empty([scoreD_d.shape[0]-1])\n",
    "for i in range (scoreD_d.shape[0]-1):\n",
    "    precisiond[i], recalld[i], f1d[i], _ = precision_recall_fscore_support(labelD_d, scoreD_d[i+1], average='binary')\n",
    "    accd[i] = accuracy_score(labelD_d, scoreD_d[i+1])"
   ]
  },
  {
   "cell_type": "code",
   "execution_count": 166,
   "id": "undefined-monday",
   "metadata": {
    "scrolled": false
   },
   "outputs": [
    {
     "data": {
      "text/plain": [
       "0.9999818722346584"
      ]
     },
     "execution_count": 166,
     "metadata": {},
     "output_type": "execute_result"
    }
   ],
   "source": [
    "np.mean(precisiond[10:])"
   ]
  },
  {
   "cell_type": "code",
   "execution_count": 167,
   "id": "cellular-pennsylvania",
   "metadata": {
    "scrolled": true
   },
   "outputs": [
    {
     "data": {
      "text/plain": [
       "0.9968941398180698"
      ]
     },
     "execution_count": 167,
     "metadata": {},
     "output_type": "execute_result"
    }
   ],
   "source": [
    "np.mean(recalld[10:])"
   ]
  },
  {
   "cell_type": "code",
   "execution_count": 168,
   "id": "outstanding-evening",
   "metadata": {},
   "outputs": [
    {
     "data": {
      "text/plain": [
       "0.9984145292144795"
      ]
     },
     "execution_count": 168,
     "metadata": {},
     "output_type": "execute_result"
    }
   ],
   "source": [
    "np.mean(f1d[10:])"
   ]
  },
  {
   "cell_type": "code",
   "execution_count": 169,
   "id": "statewide-swift",
   "metadata": {},
   "outputs": [
    {
     "data": {
      "text/plain": [
       "0.9974784262103261"
      ]
     },
     "execution_count": 169,
     "metadata": {},
     "output_type": "execute_result"
    }
   ],
   "source": [
    "np.mean(accd[10:])"
   ]
  },
  {
   "cell_type": "code",
   "execution_count": 170,
   "id": "appreciated-picnic",
   "metadata": {},
   "outputs": [
    {
     "data": {
      "text/plain": [
       "array([0.85499946, 1.        , 1.        , 1.        , 0.99952887,\n",
       "       1.        , 0.88348494, 0.90051825, 1.        , 0.98510492,\n",
       "       0.99934766, 1.        , 1.        , 1.        , 1.        ,\n",
       "       1.        , 1.        , 0.96959374, 1.        , 1.        ])"
      ]
     },
     "execution_count": 170,
     "metadata": {},
     "output_type": "execute_result"
    }
   ],
   "source": [
    "recalld"
   ]
  },
  {
   "cell_type": "code",
   "execution_count": 171,
   "id": "possible-ending",
   "metadata": {
    "scrolled": true
   },
   "outputs": [
    {
     "data": {
      "text/plain": [
       "0.9948986002808673"
      ]
     },
     "execution_count": 171,
     "metadata": {},
     "output_type": "execute_result"
    }
   ],
   "source": [
    "(np.mean(precisiona[5:])+np.mean(precisionc[5:])+np.mean(precisiond[5:]))/3"
   ]
  },
  {
   "cell_type": "code",
   "execution_count": 172,
   "id": "special-brass",
   "metadata": {},
   "outputs": [
    {
     "data": {
      "text/plain": [
       "0.9934946719543046"
      ]
     },
     "execution_count": 172,
     "metadata": {},
     "output_type": "execute_result"
    }
   ],
   "source": [
    "(np.mean(recalla[5:])+np.mean(recallc[5:])+np.mean(recalld[5:]))/3"
   ]
  },
  {
   "cell_type": "code",
   "execution_count": 173,
   "id": "increasing-glass",
   "metadata": {},
   "outputs": [
    {
     "data": {
      "text/plain": [
       "0.9940322199187298"
      ]
     },
     "execution_count": 173,
     "metadata": {},
     "output_type": "execute_result"
    }
   ],
   "source": [
    "(np.mean(f1a[5:])+np.mean(f1c[5:])+np.mean(f1d[5:]))/3"
   ]
  },
  {
   "cell_type": "code",
   "execution_count": 174,
   "id": "growing-notebook",
   "metadata": {},
   "outputs": [
    {
     "data": {
      "text/plain": [
       "0.9899991387406354"
      ]
     },
     "execution_count": 174,
     "metadata": {},
     "output_type": "execute_result"
    }
   ],
   "source": [
    "(np.mean(acca[5:])+np.mean(accc[5:])+np.mean(accd[5:]))/3"
   ]
  },
  {
   "cell_type": "code",
   "execution_count": 111,
   "id": "australian-portable",
   "metadata": {
    "scrolled": false
   },
   "outputs": [
    {
     "data": {
      "text/plain": [
       "array([0.88021196, 1.        , 1.        , 0.99982144, 0.99940505,\n",
       "       0.99955372, 0.99949322, 0.99123713, 0.99027295, 0.98182243,\n",
       "       0.98872767, 0.98611641, 0.98630298, 0.97890443, 0.97822036,\n",
       "       0.97317653, 0.98343188, 0.98196592, 0.98196592, 0.96942675])"
      ]
     },
     "execution_count": 111,
     "metadata": {},
     "output_type": "execute_result"
    }
   ],
   "source": [
    "precisiona"
   ]
  },
  {
   "cell_type": "code",
   "execution_count": 81,
   "id": "generic-webcam",
   "metadata": {},
   "outputs": [
    {
     "data": {
      "text/plain": [
       "array([0.87375542, 1.        , 1.        , 1.        , 1.        ,\n",
       "       1.        , 1.        , 1.        , 0.99976008, 0.99531259,\n",
       "       1.        , 1.        , 1.        , 1.        , 1.        ,\n",
       "       1.        , 1.        , 1.        , 1.        , 1.        ])"
      ]
     },
     "execution_count": 81,
     "metadata": {},
     "output_type": "execute_result"
    }
   ],
   "source": [
    "precisionc"
   ]
  },
  {
   "cell_type": "code",
   "execution_count": 82,
   "id": "surgical-frank",
   "metadata": {
    "scrolled": true
   },
   "outputs": [
    {
     "data": {
      "text/plain": [
       "array([0.73024283, 1.        , 1.        , 0.9998859 , 0.99984708,\n",
       "       0.99956638, 0.99996273, 0.99732136, 0.94864443, 1.        ,\n",
       "       0.99941239, 0.97872173, 0.99757157, 0.97194741, 0.99952979,\n",
       "       1.        , 1.        , 1.        , 0.94531125, 0.99152934])"
      ]
     },
     "execution_count": 82,
     "metadata": {},
     "output_type": "execute_result"
    }
   ],
   "source": [
    "precisiond"
   ]
  },
  {
   "cell_type": "code",
   "execution_count": 83,
   "id": "civilian-numbers",
   "metadata": {
    "scrolled": true
   },
   "outputs": [
    {
     "data": {
      "text/plain": [
       "array([0.55908441, 0.9414216 , 0.9770806 , 0.96725801, 0.9658888 ,\n",
       "       0.98240862, 0.98383736, 0.97749732, 0.97100845, 0.96047148,\n",
       "       0.96157281, 0.95969758, 0.95276223, 0.93764139, 0.93344446,\n",
       "       0.93043815, 0.92758066, 0.92466365, 0.92228241, 0.91960352])"
      ]
     },
     "execution_count": 83,
     "metadata": {},
     "output_type": "execute_result"
    }
   ],
   "source": [
    "recalla"
   ]
  },
  {
   "cell_type": "code",
   "execution_count": 84,
   "id": "reverse-northwest",
   "metadata": {},
   "outputs": [
    {
     "data": {
      "text/plain": [
       "array([0.71268603, 0.79053377, 0.73658414, 0.93335003, 0.92852032,\n",
       "       0.93968231, 0.93216943, 0.92411992, 0.92100744, 0.91717945,\n",
       "       0.89954207, 0.89725243, 1.        , 1.        , 1.        ,\n",
       "       1.        , 0.99803234, 1.        , 0.99695907, 1.        ])"
      ]
     },
     "execution_count": 84,
     "metadata": {},
     "output_type": "execute_result"
    }
   ],
   "source": [
    "recallb"
   ]
  },
  {
   "cell_type": "code",
   "execution_count": 85,
   "id": "australian-heater",
   "metadata": {},
   "outputs": [
    {
     "data": {
      "text/plain": [
       "array([0.55016948, 0.82145964, 1.        , 1.        , 1.        ,\n",
       "       1.        , 1.        , 1.        , 1.        , 1.        ,\n",
       "       1.        , 1.        , 1.        , 1.        , 1.        ,\n",
       "       1.        , 1.        , 1.        , 1.        , 1.        ])"
      ]
     },
     "execution_count": 85,
     "metadata": {},
     "output_type": "execute_result"
    }
   ],
   "source": [
    "recallc"
   ]
  },
  {
   "cell_type": "code",
   "execution_count": 86,
   "id": "ceramic-visibility",
   "metadata": {},
   "outputs": [
    {
     "data": {
      "text/plain": [
       "array([0.59942739, 0.8469177 , 0.94440619, 0.95274164, 0.94784909,\n",
       "       0.91896495, 0.97227558, 0.99851412, 0.68350669, 1.        ,\n",
       "       0.98622839, 0.90182293, 0.98256804, 0.80110898, 0.77037654,\n",
       "       0.94186931, 1.        , 0.99159207, 0.64335157, 0.69996013])"
      ]
     },
     "execution_count": 86,
     "metadata": {},
     "output_type": "execute_result"
    }
   ],
   "source": [
    "recalld"
   ]
  },
  {
   "cell_type": "code",
   "execution_count": 78,
   "id": "smart-minneapolis",
   "metadata": {},
   "outputs": [
    {
     "data": {
      "text/plain": [
       "array([0.69684097, 0.96513633, 0.98680295, 0.98304418, 0.98235098,\n",
       "       0.98775962, 0.98733459, 0.98475194, 0.98152606, 0.97598451,\n",
       "       0.97561344, 0.97415213, 0.97033725, 0.96302411, 0.96131445,\n",
       "       0.95988086, 0.95846341, 0.95702403, 0.95584039, 0.9544626 ])"
      ]
     },
     "execution_count": 78,
     "metadata": {},
     "output_type": "execute_result"
    }
   ],
   "source": [
    "f1a"
   ]
  },
  {
   "cell_type": "code",
   "execution_count": 59,
   "id": "following-affiliation",
   "metadata": {},
   "outputs": [
    {
     "data": {
      "text/plain": [
       "array([0.870058  , 0.96704667, 0.70889801, 0.49547387, 0.87672558,\n",
       "       1.        , 1.        , 1.        , 1.        , 1.        ,\n",
       "       1.        , 1.        , 1.        , 1.        , 1.        ,\n",
       "       1.        , 1.        , 0.99777023, 0.977381  , 0.95554345])"
      ]
     },
     "execution_count": 59,
     "metadata": {},
     "output_type": "execute_result"
    }
   ],
   "source": [
    "f1c"
   ]
  },
  {
   "cell_type": "code",
   "execution_count": 60,
   "id": "prostate-forge",
   "metadata": {},
   "outputs": [
    {
     "data": {
      "text/plain": [
       "array([0.66308174, 0.93724631, 0.92967417, 0.94932432, 0.95844028,\n",
       "       0.92615073, 0.94437883, 0.92878406, 0.95694897, 0.98416521,\n",
       "       0.97826087, 0.95847811, 0.97626423, 0.95144272, 0.97057943,\n",
       "       0.96955148, 0.97630887, 0.97552908, 0.94997309, 0.97433342])"
      ]
     },
     "execution_count": 60,
     "metadata": {},
     "output_type": "execute_result"
    }
   ],
   "source": [
    "f1d"
   ]
  },
  {
   "cell_type": "code",
   "execution_count": 137,
   "id": "banned-madrid",
   "metadata": {},
   "outputs": [
    {
     "data": {
      "text/plain": [
       "array([0.84670003, 0.49124083, 0.98259807, 0.98204516, 0.65670469,\n",
       "       0.94919101, 0.95148993, 0.95917239, 0.96644745, 0.9336515 ,\n",
       "       0.94607729, 0.90711209, 0.60650681, 0.37789547, 0.31972413,\n",
       "       0.53099174, 0.63831335, 0.58433244, 0.40938191, 0.87932138])"
      ]
     },
     "execution_count": 137,
     "metadata": {},
     "output_type": "execute_result"
    }
   ],
   "source": [
    "accb"
   ]
  },
  {
   "cell_type": "code",
   "execution_count": null,
   "id": "dense-statistics",
   "metadata": {},
   "outputs": [],
   "source": []
  }
 ],
 "metadata": {
  "kernelspec": {
   "display_name": "Python 3",
   "language": "python",
   "name": "python3"
  },
  "language_info": {
   "codemirror_mode": {
    "name": "ipython",
    "version": 3
   },
   "file_extension": ".py",
   "mimetype": "text/x-python",
   "name": "python",
   "nbconvert_exporter": "python",
   "pygments_lexer": "ipython3",
   "version": "3.7.9"
  }
 },
 "nbformat": 4,
 "nbformat_minor": 5
}
